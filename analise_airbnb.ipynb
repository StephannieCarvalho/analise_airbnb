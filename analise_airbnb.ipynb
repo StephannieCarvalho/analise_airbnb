{
  "nbformat": 4,
  "nbformat_minor": 0,
  "metadata": {
    "colab": {
      "name": "analise_airbnb.ipynb",
      "provenance": [],
      "collapsed_sections": [
        "D08EnNuwEZdB"
      ]
    },
    "kernelspec": {
      "name": "python3",
      "display_name": "Python 3"
    },
    "language_info": {
      "name": "python"
    }
  },
  "cells": [
    {
      "cell_type": "markdown",
      "source": [
        "# Análise Airbnb"
      ],
      "metadata": {
        "id": "ocnOCqjG5D43"
      }
    },
    {
      "cell_type": "markdown",
      "source": [
        "##Data Understanding"
      ],
      "metadata": {
        "id": "D08EnNuwEZdB"
      }
    },
    {
      "cell_type": "code",
      "source": [
        "#Importanto as Bibliotecas\n",
        "import pandas as pd\n",
        "import numpy as np\n",
        "import matplotlib.pyplot as plt\n",
        "import seaborn as sns\n",
        "import datetime"
      ],
      "metadata": {
        "id": "G7Go5pe75KU4"
      },
      "execution_count": null,
      "outputs": []
    },
    {
      "cell_type": "code",
      "source": [
        "#Subindo o arquivo details\n",
        "\n",
        "dfDetails = pd.read_csv(\"desafio_details.csv\",sep=\",\")"
      ],
      "metadata": {
        "id": "tcfIhn5P67o6"
      },
      "execution_count": null,
      "outputs": []
    },
    {
      "cell_type": "code",
      "source": [
        "#Subindo o arquivo price \n",
        "\n",
        "dfPrice = pd.read_csv(\"desafio_priceav.csv\",sep=\",\")"
      ],
      "metadata": {
        "id": "jYSC4Tk37qep"
      },
      "execution_count": null,
      "outputs": []
    },
    {
      "cell_type": "code",
      "source": [
        "#Visualizando o DF\n",
        "dfDetails.head()"
      ],
      "metadata": {
        "colab": {
          "base_uri": "https://localhost:8080/"
        },
        "id": "4v-0odkQ7Y7h",
        "outputId": "96262826-2486-4840-e514-abe7a72c027b"
      },
      "execution_count": null,
      "outputs": [
        {
          "output_type": "execute_result",
          "data": {
            "text/html": [
              "\n",
              "  <div id=\"df-073dd140-603c-4d33-bde4-99cc97e8c9a2\">\n",
              "    <div class=\"colab-df-container\">\n",
              "      <div>\n",
              "<style scoped>\n",
              "    .dataframe tbody tr th:only-of-type {\n",
              "        vertical-align: middle;\n",
              "    }\n",
              "\n",
              "    .dataframe tbody tr th {\n",
              "        vertical-align: top;\n",
              "    }\n",
              "\n",
              "    .dataframe thead th {\n",
              "        text-align: right;\n",
              "    }\n",
              "</style>\n",
              "<table border=\"1\" class=\"dataframe\">\n",
              "  <thead>\n",
              "    <tr style=\"text-align: right;\">\n",
              "      <th></th>\n",
              "      <th>Unnamed: 0</th>\n",
              "      <th>airbnb_listing_id</th>\n",
              "      <th>suburb</th>\n",
              "      <th>ad_name</th>\n",
              "      <th>number_of_bedrooms</th>\n",
              "      <th>number_of_bathrooms</th>\n",
              "      <th>star_rating</th>\n",
              "      <th>is_superhost</th>\n",
              "      <th>number_of_reviews</th>\n",
              "    </tr>\n",
              "  </thead>\n",
              "  <tbody>\n",
              "    <tr>\n",
              "      <th>0</th>\n",
              "      <td>0</td>\n",
              "      <td>31389869</td>\n",
              "      <td>Jurerê</td>\n",
              "      <td>Lindo Apartamento em Jurerê</td>\n",
              "      <td>2.0</td>\n",
              "      <td>2.0</td>\n",
              "      <td>5.0</td>\n",
              "      <td>False</td>\n",
              "      <td>15.0</td>\n",
              "    </tr>\n",
              "    <tr>\n",
              "      <th>1</th>\n",
              "      <td>1</td>\n",
              "      <td>40010667</td>\n",
              "      <td>Canasvieiras</td>\n",
              "      <td>Residencial Arruda, 1 quarto</td>\n",
              "      <td>1.0</td>\n",
              "      <td>1.0</td>\n",
              "      <td>NaN</td>\n",
              "      <td>False</td>\n",
              "      <td>0.0</td>\n",
              "    </tr>\n",
              "    <tr>\n",
              "      <th>2</th>\n",
              "      <td>2</td>\n",
              "      <td>38905997</td>\n",
              "      <td>Ingleses</td>\n",
              "      <td>Apartamento NOVO Completo - Moderno e Sofisticado</td>\n",
              "      <td>1.0</td>\n",
              "      <td>1.0</td>\n",
              "      <td>4.5</td>\n",
              "      <td>True</td>\n",
              "      <td>13.0</td>\n",
              "    </tr>\n",
              "    <tr>\n",
              "      <th>3</th>\n",
              "      <td>3</td>\n",
              "      <td>22343656</td>\n",
              "      <td>Ingleses</td>\n",
              "      <td>06- Apartamento 02 habitaciones</td>\n",
              "      <td>2.0</td>\n",
              "      <td>1.0</td>\n",
              "      <td>5.0</td>\n",
              "      <td>True</td>\n",
              "      <td>28.0</td>\n",
              "    </tr>\n",
              "    <tr>\n",
              "      <th>4</th>\n",
              "      <td>4</td>\n",
              "      <td>18328184</td>\n",
              "      <td>Canasvieiras</td>\n",
              "      <td>Apto 2 quartos em Canasvieiras, Florianopolis!</td>\n",
              "      <td>2.0</td>\n",
              "      <td>1.0</td>\n",
              "      <td>5.0</td>\n",
              "      <td>True</td>\n",
              "      <td>35.0</td>\n",
              "    </tr>\n",
              "  </tbody>\n",
              "</table>\n",
              "</div>\n",
              "      <button class=\"colab-df-convert\" onclick=\"convertToInteractive('df-073dd140-603c-4d33-bde4-99cc97e8c9a2')\"\n",
              "              title=\"Convert this dataframe to an interactive table.\"\n",
              "              style=\"display:none;\">\n",
              "        \n",
              "  <svg xmlns=\"http://www.w3.org/2000/svg\" height=\"24px\"viewBox=\"0 0 24 24\"\n",
              "       width=\"24px\">\n",
              "    <path d=\"M0 0h24v24H0V0z\" fill=\"none\"/>\n",
              "    <path d=\"M18.56 5.44l.94 2.06.94-2.06 2.06-.94-2.06-.94-.94-2.06-.94 2.06-2.06.94zm-11 1L8.5 8.5l.94-2.06 2.06-.94-2.06-.94L8.5 2.5l-.94 2.06-2.06.94zm10 10l.94 2.06.94-2.06 2.06-.94-2.06-.94-.94-2.06-.94 2.06-2.06.94z\"/><path d=\"M17.41 7.96l-1.37-1.37c-.4-.4-.92-.59-1.43-.59-.52 0-1.04.2-1.43.59L10.3 9.45l-7.72 7.72c-.78.78-.78 2.05 0 2.83L4 21.41c.39.39.9.59 1.41.59.51 0 1.02-.2 1.41-.59l7.78-7.78 2.81-2.81c.8-.78.8-2.07 0-2.86zM5.41 20L4 18.59l7.72-7.72 1.47 1.35L5.41 20z\"/>\n",
              "  </svg>\n",
              "      </button>\n",
              "      \n",
              "  <style>\n",
              "    .colab-df-container {\n",
              "      display:flex;\n",
              "      flex-wrap:wrap;\n",
              "      gap: 12px;\n",
              "    }\n",
              "\n",
              "    .colab-df-convert {\n",
              "      background-color: #E8F0FE;\n",
              "      border: none;\n",
              "      border-radius: 50%;\n",
              "      cursor: pointer;\n",
              "      display: none;\n",
              "      fill: #1967D2;\n",
              "      height: 32px;\n",
              "      padding: 0 0 0 0;\n",
              "      width: 32px;\n",
              "    }\n",
              "\n",
              "    .colab-df-convert:hover {\n",
              "      background-color: #E2EBFA;\n",
              "      box-shadow: 0px 1px 2px rgba(60, 64, 67, 0.3), 0px 1px 3px 1px rgba(60, 64, 67, 0.15);\n",
              "      fill: #174EA6;\n",
              "    }\n",
              "\n",
              "    [theme=dark] .colab-df-convert {\n",
              "      background-color: #3B4455;\n",
              "      fill: #D2E3FC;\n",
              "    }\n",
              "\n",
              "    [theme=dark] .colab-df-convert:hover {\n",
              "      background-color: #434B5C;\n",
              "      box-shadow: 0px 1px 3px 1px rgba(0, 0, 0, 0.15);\n",
              "      filter: drop-shadow(0px 1px 2px rgba(0, 0, 0, 0.3));\n",
              "      fill: #FFFFFF;\n",
              "    }\n",
              "  </style>\n",
              "\n",
              "      <script>\n",
              "        const buttonEl =\n",
              "          document.querySelector('#df-073dd140-603c-4d33-bde4-99cc97e8c9a2 button.colab-df-convert');\n",
              "        buttonEl.style.display =\n",
              "          google.colab.kernel.accessAllowed ? 'block' : 'none';\n",
              "\n",
              "        async function convertToInteractive(key) {\n",
              "          const element = document.querySelector('#df-073dd140-603c-4d33-bde4-99cc97e8c9a2');\n",
              "          const dataTable =\n",
              "            await google.colab.kernel.invokeFunction('convertToInteractive',\n",
              "                                                     [key], {});\n",
              "          if (!dataTable) return;\n",
              "\n",
              "          const docLinkHtml = 'Like what you see? Visit the ' +\n",
              "            '<a target=\"_blank\" href=https://colab.research.google.com/notebooks/data_table.ipynb>data table notebook</a>'\n",
              "            + ' to learn more about interactive tables.';\n",
              "          element.innerHTML = '';\n",
              "          dataTable['output_type'] = 'display_data';\n",
              "          await google.colab.output.renderOutput(dataTable, element);\n",
              "          const docLink = document.createElement('div');\n",
              "          docLink.innerHTML = docLinkHtml;\n",
              "          element.appendChild(docLink);\n",
              "        }\n",
              "      </script>\n",
              "    </div>\n",
              "  </div>\n",
              "  "
            ],
            "text/plain": [
              "   Unnamed: 0  airbnb_listing_id  ... is_superhost number_of_reviews\n",
              "0           0           31389869  ...        False              15.0\n",
              "1           1           40010667  ...        False               0.0\n",
              "2           2           38905997  ...         True              13.0\n",
              "3           3           22343656  ...         True              28.0\n",
              "4           4           18328184  ...         True              35.0\n",
              "\n",
              "[5 rows x 9 columns]"
            ]
          },
          "metadata": {},
          "execution_count": 4
        }
      ]
    },
    {
      "cell_type": "code",
      "source": [
        "#Verificando se as variáveis estão do tipo corretos\n",
        "\n",
        "dfDetails.dtypes"
      ],
      "metadata": {
        "colab": {
          "base_uri": "https://localhost:8080/"
        },
        "id": "6WlxZyXI73e5",
        "outputId": "6d462c0d-8c55-4822-8109-346cdb8587c1"
      },
      "execution_count": null,
      "outputs": [
        {
          "output_type": "execute_result",
          "data": {
            "text/plain": [
              "Unnamed: 0               int64\n",
              "airbnb_listing_id        int64\n",
              "suburb                  object\n",
              "ad_name                 object\n",
              "number_of_bedrooms     float64\n",
              "number_of_bathrooms    float64\n",
              "star_rating            float64\n",
              "is_superhost              bool\n",
              "number_of_reviews      float64\n",
              "dtype: object"
            ]
          },
          "metadata": {},
          "execution_count": 5
        }
      ]
    },
    {
      "cell_type": "code",
      "source": [
        "#Verificando os nulos\n",
        "\n",
        "dfDetails.isnull().sum()"
      ],
      "metadata": {
        "colab": {
          "base_uri": "https://localhost:8080/"
        },
        "id": "vXXmbSZf8cDg",
        "outputId": "f639d7c5-cc54-4560-c0c6-52ae245593e8"
      },
      "execution_count": null,
      "outputs": [
        {
          "output_type": "execute_result",
          "data": {
            "text/plain": [
              "Unnamed: 0                0\n",
              "airbnb_listing_id         0\n",
              "suburb                    0\n",
              "ad_name                   0\n",
              "number_of_bedrooms      183\n",
              "number_of_bathrooms       1\n",
              "star_rating            2121\n",
              "is_superhost              0\n",
              "number_of_reviews         7\n",
              "dtype: int64"
            ]
          },
          "metadata": {},
          "execution_count": 6
        }
      ]
    },
    {
      "cell_type": "code",
      "source": [
        "#Verifi}cando os dados do price\n",
        "dfPrice.head()"
      ],
      "metadata": {
        "colab": {
          "base_uri": "https://localhost:8080/"
        },
        "id": "x6FtksTc7ej_",
        "outputId": "cf997db3-2f97-469a-fd7b-874e2705a5fc"
      },
      "execution_count": null,
      "outputs": [
        {
          "output_type": "execute_result",
          "data": {
            "text/html": [
              "\n",
              "  <div id=\"df-ef581fd8-004e-47fa-bb78-60b59e9ced8c\">\n",
              "    <div class=\"colab-df-container\">\n",
              "      <div>\n",
              "<style scoped>\n",
              "    .dataframe tbody tr th:only-of-type {\n",
              "        vertical-align: middle;\n",
              "    }\n",
              "\n",
              "    .dataframe tbody tr th {\n",
              "        vertical-align: top;\n",
              "    }\n",
              "\n",
              "    .dataframe thead th {\n",
              "        text-align: right;\n",
              "    }\n",
              "</style>\n",
              "<table border=\"1\" class=\"dataframe\">\n",
              "  <thead>\n",
              "    <tr style=\"text-align: right;\">\n",
              "      <th></th>\n",
              "      <th>Unnamed: 0</th>\n",
              "      <th>Unnamed: 0.1</th>\n",
              "      <th>airbnb_listing_id</th>\n",
              "      <th>booked_on</th>\n",
              "      <th>date</th>\n",
              "      <th>price_string</th>\n",
              "      <th>occupied</th>\n",
              "    </tr>\n",
              "  </thead>\n",
              "  <tbody>\n",
              "    <tr>\n",
              "      <th>0</th>\n",
              "      <td>0</td>\n",
              "      <td>2148</td>\n",
              "      <td>40201349</td>\n",
              "      <td>blank</td>\n",
              "      <td>2020-11-15</td>\n",
              "      <td>250.0</td>\n",
              "      <td>0</td>\n",
              "    </tr>\n",
              "    <tr>\n",
              "      <th>1</th>\n",
              "      <td>1</td>\n",
              "      <td>2159</td>\n",
              "      <td>40201349</td>\n",
              "      <td>blank</td>\n",
              "      <td>2020-11-26</td>\n",
              "      <td>250.0</td>\n",
              "      <td>0</td>\n",
              "    </tr>\n",
              "    <tr>\n",
              "      <th>2</th>\n",
              "      <td>2</td>\n",
              "      <td>2160</td>\n",
              "      <td>40201349</td>\n",
              "      <td>blank</td>\n",
              "      <td>2020-11-27</td>\n",
              "      <td>250.0</td>\n",
              "      <td>0</td>\n",
              "    </tr>\n",
              "    <tr>\n",
              "      <th>3</th>\n",
              "      <td>3</td>\n",
              "      <td>2173</td>\n",
              "      <td>40201349</td>\n",
              "      <td>blank</td>\n",
              "      <td>2020-12-10</td>\n",
              "      <td>250.0</td>\n",
              "      <td>0</td>\n",
              "    </tr>\n",
              "    <tr>\n",
              "      <th>4</th>\n",
              "      <td>4</td>\n",
              "      <td>2226</td>\n",
              "      <td>40201349</td>\n",
              "      <td>blank</td>\n",
              "      <td>2021-02-01</td>\n",
              "      <td>250.0</td>\n",
              "      <td>0</td>\n",
              "    </tr>\n",
              "  </tbody>\n",
              "</table>\n",
              "</div>\n",
              "      <button class=\"colab-df-convert\" onclick=\"convertToInteractive('df-ef581fd8-004e-47fa-bb78-60b59e9ced8c')\"\n",
              "              title=\"Convert this dataframe to an interactive table.\"\n",
              "              style=\"display:none;\">\n",
              "        \n",
              "  <svg xmlns=\"http://www.w3.org/2000/svg\" height=\"24px\"viewBox=\"0 0 24 24\"\n",
              "       width=\"24px\">\n",
              "    <path d=\"M0 0h24v24H0V0z\" fill=\"none\"/>\n",
              "    <path d=\"M18.56 5.44l.94 2.06.94-2.06 2.06-.94-2.06-.94-.94-2.06-.94 2.06-2.06.94zm-11 1L8.5 8.5l.94-2.06 2.06-.94-2.06-.94L8.5 2.5l-.94 2.06-2.06.94zm10 10l.94 2.06.94-2.06 2.06-.94-2.06-.94-.94-2.06-.94 2.06-2.06.94z\"/><path d=\"M17.41 7.96l-1.37-1.37c-.4-.4-.92-.59-1.43-.59-.52 0-1.04.2-1.43.59L10.3 9.45l-7.72 7.72c-.78.78-.78 2.05 0 2.83L4 21.41c.39.39.9.59 1.41.59.51 0 1.02-.2 1.41-.59l7.78-7.78 2.81-2.81c.8-.78.8-2.07 0-2.86zM5.41 20L4 18.59l7.72-7.72 1.47 1.35L5.41 20z\"/>\n",
              "  </svg>\n",
              "      </button>\n",
              "      \n",
              "  <style>\n",
              "    .colab-df-container {\n",
              "      display:flex;\n",
              "      flex-wrap:wrap;\n",
              "      gap: 12px;\n",
              "    }\n",
              "\n",
              "    .colab-df-convert {\n",
              "      background-color: #E8F0FE;\n",
              "      border: none;\n",
              "      border-radius: 50%;\n",
              "      cursor: pointer;\n",
              "      display: none;\n",
              "      fill: #1967D2;\n",
              "      height: 32px;\n",
              "      padding: 0 0 0 0;\n",
              "      width: 32px;\n",
              "    }\n",
              "\n",
              "    .colab-df-convert:hover {\n",
              "      background-color: #E2EBFA;\n",
              "      box-shadow: 0px 1px 2px rgba(60, 64, 67, 0.3), 0px 1px 3px 1px rgba(60, 64, 67, 0.15);\n",
              "      fill: #174EA6;\n",
              "    }\n",
              "\n",
              "    [theme=dark] .colab-df-convert {\n",
              "      background-color: #3B4455;\n",
              "      fill: #D2E3FC;\n",
              "    }\n",
              "\n",
              "    [theme=dark] .colab-df-convert:hover {\n",
              "      background-color: #434B5C;\n",
              "      box-shadow: 0px 1px 3px 1px rgba(0, 0, 0, 0.15);\n",
              "      filter: drop-shadow(0px 1px 2px rgba(0, 0, 0, 0.3));\n",
              "      fill: #FFFFFF;\n",
              "    }\n",
              "  </style>\n",
              "\n",
              "      <script>\n",
              "        const buttonEl =\n",
              "          document.querySelector('#df-ef581fd8-004e-47fa-bb78-60b59e9ced8c button.colab-df-convert');\n",
              "        buttonEl.style.display =\n",
              "          google.colab.kernel.accessAllowed ? 'block' : 'none';\n",
              "\n",
              "        async function convertToInteractive(key) {\n",
              "          const element = document.querySelector('#df-ef581fd8-004e-47fa-bb78-60b59e9ced8c');\n",
              "          const dataTable =\n",
              "            await google.colab.kernel.invokeFunction('convertToInteractive',\n",
              "                                                     [key], {});\n",
              "          if (!dataTable) return;\n",
              "\n",
              "          const docLinkHtml = 'Like what you see? Visit the ' +\n",
              "            '<a target=\"_blank\" href=https://colab.research.google.com/notebooks/data_table.ipynb>data table notebook</a>'\n",
              "            + ' to learn more about interactive tables.';\n",
              "          element.innerHTML = '';\n",
              "          dataTable['output_type'] = 'display_data';\n",
              "          await google.colab.output.renderOutput(dataTable, element);\n",
              "          const docLink = document.createElement('div');\n",
              "          docLink.innerHTML = docLinkHtml;\n",
              "          element.appendChild(docLink);\n",
              "        }\n",
              "      </script>\n",
              "    </div>\n",
              "  </div>\n",
              "  "
            ],
            "text/plain": [
              "   Unnamed: 0  Unnamed: 0.1  ...  price_string occupied\n",
              "0           0          2148  ...         250.0        0\n",
              "1           1          2159  ...         250.0        0\n",
              "2           2          2160  ...         250.0        0\n",
              "3           3          2173  ...         250.0        0\n",
              "4           4          2226  ...         250.0        0\n",
              "\n",
              "[5 rows x 7 columns]"
            ]
          },
          "metadata": {},
          "execution_count": 7
        }
      ]
    },
    {
      "cell_type": "code",
      "source": [
        "#Verificação de Nulos\n",
        "dfPrice.isnull().sum()"
      ],
      "metadata": {
        "colab": {
          "base_uri": "https://localhost:8080/"
        },
        "id": "dOtHSQf3EOPw",
        "outputId": "79d2e52e-1e57-4dee-b9ba-9ab85e4dcf06"
      },
      "execution_count": null,
      "outputs": [
        {
          "output_type": "execute_result",
          "data": {
            "text/plain": [
              "Unnamed: 0           0\n",
              "Unnamed: 0.1         0\n",
              "airbnb_listing_id    0\n",
              "booked_on            0\n",
              "date                 0\n",
              "price_string         0\n",
              "occupied             0\n",
              "dtype: int64"
            ]
          },
          "metadata": {},
          "execution_count": 8
        }
      ]
    },
    {
      "cell_type": "code",
      "source": [
        "#Verificando os tipos das variáveis\n",
        "dfPrice.dtypes"
      ],
      "metadata": {
        "colab": {
          "base_uri": "https://localhost:8080/"
        },
        "id": "TDEITAMS8Bpo",
        "outputId": "d1e7d413-eac6-428f-ca7f-3de2ade2bb31"
      },
      "execution_count": null,
      "outputs": [
        {
          "output_type": "execute_result",
          "data": {
            "text/plain": [
              "Unnamed: 0             int64\n",
              "Unnamed: 0.1           int64\n",
              "airbnb_listing_id      int64\n",
              "booked_on             object\n",
              "date                  object\n",
              "price_string         float64\n",
              "occupied               int64\n",
              "dtype: object"
            ]
          },
          "metadata": {},
          "execution_count": 9
        }
      ]
    },
    {
      "cell_type": "code",
      "source": [
        "dfPrice['date'] = pd.to_datetime(dfPrice['date'])\n",
        "\n"
      ],
      "metadata": {
        "id": "6FoNTBfXI_Fb"
      },
      "execution_count": null,
      "outputs": []
    },
    {
      "cell_type": "code",
      "source": [
        "dfPrice.dtypes"
      ],
      "metadata": {
        "colab": {
          "base_uri": "https://localhost:8080/"
        },
        "id": "uGOZYAraJCJE",
        "outputId": "dc6149ab-796c-4bad-c4f9-4cd6c20f06d9"
      },
      "execution_count": null,
      "outputs": [
        {
          "output_type": "execute_result",
          "data": {
            "text/plain": [
              "Unnamed: 0                    int64\n",
              "Unnamed: 0.1                  int64\n",
              "airbnb_listing_id             int64\n",
              "booked_on                    object\n",
              "date                 datetime64[ns]\n",
              "price_string                float64\n",
              "occupied                      int64\n",
              "dtype: object"
            ]
          },
          "metadata": {},
          "execution_count": 11
        }
      ]
    },
    {
      "cell_type": "markdown",
      "source": [
        "##Ordene os bairros em ordem crescente de número de listings."
      ],
      "metadata": {
        "id": "vIUUucG3EReI"
      }
    },
    {
      "cell_type": "code",
      "source": [
        "#Ordene os bairros em ordem crescente de número de listings\n",
        "dfDetails['suburb'].value_counts()"
      ],
      "metadata": {
        "colab": {
          "base_uri": "https://localhost:8080/"
        },
        "id": "GsQ9UJbh_5uf",
        "outputId": "3429c539-5391-4d8a-9937-240f7e6ff65a"
      },
      "execution_count": null,
      "outputs": [
        {
          "output_type": "execute_result",
          "data": {
            "text/plain": [
              "Ingleses              2388\n",
              "Canasvieiras          1177\n",
              "Jurerê                 539\n",
              "Lagoa da Conceição     309\n",
              "Centro                 278\n",
              "Name: suburb, dtype: int64"
            ]
          },
          "metadata": {},
          "execution_count": 12
        }
      ]
    },
    {
      "cell_type": "code",
      "source": [
        "#Gráfico de distribuição de listings por região\n",
        "plt.style.use(\"ggplot\")\n",
        "plt.figure(figsize = (10, 5))\n",
        "grafico1 = dfDetails[\"suburb\"].hist(bins = 4, alpha = .5, color = \"gray\")\n",
        "plt.title(\"Distribuição de listings\")\n",
        "plt.xlabel(\"suburb\")\n"
      ],
      "metadata": {
        "colab": {
          "base_uri": "https://localhost:8080/",
          "height": 372
        },
        "id": "imoum07SUwUi",
        "outputId": "39026659-6cdf-4207-dc56-c629d82323dd"
      },
      "execution_count": null,
      "outputs": [
        {
          "output_type": "execute_result",
          "data": {
            "text/plain": [
              "Text(0.5, 0, 'suburb')"
            ]
          },
          "metadata": {},
          "execution_count": 110
        },
        {
          "output_type": "display_data",
          "data": {
            "image/png": "[encoded data removed]",
            "text/plain": [
              "<Figure size 720x360 with 1 Axes>"
            ]
          },
          "metadata": {}
        }
      ]
    },
    {
      "cell_type": "markdown",
      "source": [
        "[tarcisio] o que acha, faço os gráficos no phyton mesmo para colocar no relatório?"
      ],
      "metadata": {
        "id": "xwxapdxMCvIx"
      }
    },
    {
      "cell_type": "markdown",
      "source": [
        "##Ordene os bairros em ordem crescente de faturamento médio dos listings."
      ],
      "metadata": {
        "id": "q0CF6nUaEvmn"
      }
    },
    {
      "cell_type": "code",
      "source": [
        "#Juntando os DataFrames\n",
        "df_fr = dfPrice.drop(dfPrice.columns[[0, 1]], axis=1)\n",
        "df_fr = pd.merge(dfPrice, dfDetails, left_on=\"airbnb_listing_id\", right_on=\"airbnb_listing_id\", how=\"left\")\n",
        "df_fr.head()"
      ],
      "metadata": {
        "colab": {
          "base_uri": "https://localhost:8080/",
          "height": 548
        },
        "id": "2h4zQ6xd4CHa",
        "outputId": "c6d5c36a-d93e-4c5d-c2e8-b344671c1bcf"
      },
      "execution_count": null,
      "outputs": [
        {
          "output_type": "execute_result",
          "data": {
            "text/html": [
              "\n",
              "  <div id=\"df-c59057e2-bc32-4e7c-ba79-75071d57d673\">\n",
              "    <div class=\"colab-df-container\">\n",
              "      <div>\n",
              "<style scoped>\n",
              "    .dataframe tbody tr th:only-of-type {\n",
              "        vertical-align: middle;\n",
              "    }\n",
              "\n",
              "    .dataframe tbody tr th {\n",
              "        vertical-align: top;\n",
              "    }\n",
              "\n",
              "    .dataframe thead th {\n",
              "        text-align: right;\n",
              "    }\n",
              "</style>\n",
              "<table border=\"1\" class=\"dataframe\">\n",
              "  <thead>\n",
              "    <tr style=\"text-align: right;\">\n",
              "      <th></th>\n",
              "      <th>Unnamed: 0_x</th>\n",
              "      <th>Unnamed: 0.1</th>\n",
              "      <th>airbnb_listing_id</th>\n",
              "      <th>booked_on</th>\n",
              "      <th>date</th>\n",
              "      <th>price_string</th>\n",
              "      <th>occupied</th>\n",
              "      <th>Unnamed: 0_y</th>\n",
              "      <th>suburb</th>\n",
              "      <th>ad_name</th>\n",
              "      <th>number_of_bedrooms</th>\n",
              "      <th>number_of_bathrooms</th>\n",
              "      <th>star_rating</th>\n",
              "      <th>is_superhost</th>\n",
              "      <th>number_of_reviews</th>\n",
              "    </tr>\n",
              "  </thead>\n",
              "  <tbody>\n",
              "    <tr>\n",
              "      <th>0</th>\n",
              "      <td>0</td>\n",
              "      <td>2148</td>\n",
              "      <td>40201349</td>\n",
              "      <td>blank</td>\n",
              "      <td>2020-11-15</td>\n",
              "      <td>250.0</td>\n",
              "      <td>0</td>\n",
              "      <td>349</td>\n",
              "      <td>Ingleses</td>\n",
              "      <td>Excelente apartamento de dois dormitórios.</td>\n",
              "      <td>2.0</td>\n",
              "      <td>2.0</td>\n",
              "      <td>NaN</td>\n",
              "      <td>False</td>\n",
              "      <td>0.0</td>\n",
              "    </tr>\n",
              "    <tr>\n",
              "      <th>1</th>\n",
              "      <td>1</td>\n",
              "      <td>2159</td>\n",
              "      <td>40201349</td>\n",
              "      <td>blank</td>\n",
              "      <td>2020-11-26</td>\n",
              "      <td>250.0</td>\n",
              "      <td>0</td>\n",
              "      <td>349</td>\n",
              "      <td>Ingleses</td>\n",
              "      <td>Excelente apartamento de dois dormitórios.</td>\n",
              "      <td>2.0</td>\n",
              "      <td>2.0</td>\n",
              "      <td>NaN</td>\n",
              "      <td>False</td>\n",
              "      <td>0.0</td>\n",
              "    </tr>\n",
              "    <tr>\n",
              "      <th>2</th>\n",
              "      <td>2</td>\n",
              "      <td>2160</td>\n",
              "      <td>40201349</td>\n",
              "      <td>blank</td>\n",
              "      <td>2020-11-27</td>\n",
              "      <td>250.0</td>\n",
              "      <td>0</td>\n",
              "      <td>349</td>\n",
              "      <td>Ingleses</td>\n",
              "      <td>Excelente apartamento de dois dormitórios.</td>\n",
              "      <td>2.0</td>\n",
              "      <td>2.0</td>\n",
              "      <td>NaN</td>\n",
              "      <td>False</td>\n",
              "      <td>0.0</td>\n",
              "    </tr>\n",
              "    <tr>\n",
              "      <th>3</th>\n",
              "      <td>3</td>\n",
              "      <td>2173</td>\n",
              "      <td>40201349</td>\n",
              "      <td>blank</td>\n",
              "      <td>2020-12-10</td>\n",
              "      <td>250.0</td>\n",
              "      <td>0</td>\n",
              "      <td>349</td>\n",
              "      <td>Ingleses</td>\n",
              "      <td>Excelente apartamento de dois dormitórios.</td>\n",
              "      <td>2.0</td>\n",
              "      <td>2.0</td>\n",
              "      <td>NaN</td>\n",
              "      <td>False</td>\n",
              "      <td>0.0</td>\n",
              "    </tr>\n",
              "    <tr>\n",
              "      <th>4</th>\n",
              "      <td>4</td>\n",
              "      <td>2226</td>\n",
              "      <td>40201349</td>\n",
              "      <td>blank</td>\n",
              "      <td>2021-02-01</td>\n",
              "      <td>250.0</td>\n",
              "      <td>0</td>\n",
              "      <td>349</td>\n",
              "      <td>Ingleses</td>\n",
              "      <td>Excelente apartamento de dois dormitórios.</td>\n",
              "      <td>2.0</td>\n",
              "      <td>2.0</td>\n",
              "      <td>NaN</td>\n",
              "      <td>False</td>\n",
              "      <td>0.0</td>\n",
              "    </tr>\n",
              "  </tbody>\n",
              "</table>\n",
              "</div>\n",
              "      <button class=\"colab-df-convert\" onclick=\"convertToInteractive('df-c59057e2-bc32-4e7c-ba79-75071d57d673')\"\n",
              "              title=\"Convert this dataframe to an interactive table.\"\n",
              "              style=\"display:none;\">\n",
              "        \n",
              "  <svg xmlns=\"http://www.w3.org/2000/svg\" height=\"24px\"viewBox=\"0 0 24 24\"\n",
              "       width=\"24px\">\n",
              "    <path d=\"M0 0h24v24H0V0z\" fill=\"none\"/>\n",
              "    <path d=\"M18.56 5.44l.94 2.06.94-2.06 2.06-.94-2.06-.94-.94-2.06-.94 2.06-2.06.94zm-11 1L8.5 8.5l.94-2.06 2.06-.94-2.06-.94L8.5 2.5l-.94 2.06-2.06.94zm10 10l.94 2.06.94-2.06 2.06-.94-2.06-.94-.94-2.06-.94 2.06-2.06.94z\"/><path d=\"M17.41 7.96l-1.37-1.37c-.4-.4-.92-.59-1.43-.59-.52 0-1.04.2-1.43.59L10.3 9.45l-7.72 7.72c-.78.78-.78 2.05 0 2.83L4 21.41c.39.39.9.59 1.41.59.51 0 1.02-.2 1.41-.59l7.78-7.78 2.81-2.81c.8-.78.8-2.07 0-2.86zM5.41 20L4 18.59l7.72-7.72 1.47 1.35L5.41 20z\"/>\n",
              "  </svg>\n",
              "      </button>\n",
              "      \n",
              "  <style>\n",
              "    .colab-df-container {\n",
              "      display:flex;\n",
              "      flex-wrap:wrap;\n",
              "      gap: 12px;\n",
              "    }\n",
              "\n",
              "    .colab-df-convert {\n",
              "      background-color: #E8F0FE;\n",
              "      border: none;\n",
              "      border-radius: 50%;\n",
              "      cursor: pointer;\n",
              "      display: none;\n",
              "      fill: #1967D2;\n",
              "      height: 32px;\n",
              "      padding: 0 0 0 0;\n",
              "      width: 32px;\n",
              "    }\n",
              "\n",
              "    .colab-df-convert:hover {\n",
              "      background-color: #E2EBFA;\n",
              "      box-shadow: 0px 1px 2px rgba(60, 64, 67, 0.3), 0px 1px 3px 1px rgba(60, 64, 67, 0.15);\n",
              "      fill: #174EA6;\n",
              "    }\n",
              "\n",
              "    [theme=dark] .colab-df-convert {\n",
              "      background-color: #3B4455;\n",
              "      fill: #D2E3FC;\n",
              "    }\n",
              "\n",
              "    [theme=dark] .colab-df-convert:hover {\n",
              "      background-color: #434B5C;\n",
              "      box-shadow: 0px 1px 3px 1px rgba(0, 0, 0, 0.15);\n",
              "      filter: drop-shadow(0px 1px 2px rgba(0, 0, 0, 0.3));\n",
              "      fill: #FFFFFF;\n",
              "    }\n",
              "  </style>\n",
              "\n",
              "      <script>\n",
              "        const buttonEl =\n",
              "          document.querySelector('#df-c59057e2-bc32-4e7c-ba79-75071d57d673 button.colab-df-convert');\n",
              "        buttonEl.style.display =\n",
              "          google.colab.kernel.accessAllowed ? 'block' : 'none';\n",
              "\n",
              "        async function convertToInteractive(key) {\n",
              "          const element = document.querySelector('#df-c59057e2-bc32-4e7c-ba79-75071d57d673');\n",
              "          const dataTable =\n",
              "            await google.colab.kernel.invokeFunction('convertToInteractive',\n",
              "                                                     [key], {});\n",
              "          if (!dataTable) return;\n",
              "\n",
              "          const docLinkHtml = 'Like what you see? Visit the ' +\n",
              "            '<a target=\"_blank\" href=https://colab.research.google.com/notebooks/data_table.ipynb>data table notebook</a>'\n",
              "            + ' to learn more about interactive tables.';\n",
              "          element.innerHTML = '';\n",
              "          dataTable['output_type'] = 'display_data';\n",
              "          await google.colab.output.renderOutput(dataTable, element);\n",
              "          const docLink = document.createElement('div');\n",
              "          docLink.innerHTML = docLinkHtml;\n",
              "          element.appendChild(docLink);\n",
              "        }\n",
              "      </script>\n",
              "    </div>\n",
              "  </div>\n",
              "  "
            ],
            "text/plain": [
              "   Unnamed: 0_x  Unnamed: 0.1  ...  is_superhost number_of_reviews\n",
              "0             0          2148  ...         False               0.0\n",
              "1             1          2159  ...         False               0.0\n",
              "2             2          2160  ...         False               0.0\n",
              "3             3          2173  ...         False               0.0\n",
              "4             4          2226  ...         False               0.0\n",
              "\n",
              "[5 rows x 15 columns]"
            ]
          },
          "metadata": {},
          "execution_count": 14
        }
      ]
    },
    {
      "cell_type": "code",
      "source": [
        "#Excolhendo apenas datas que o anuncio esteja ocupado\n",
        "df_datasalugadas = df_fr.loc[df_fr.occupied == 1]\n",
        "df_datasalugadas.head()"
      ],
      "metadata": {
        "colab": {
          "base_uri": "https://localhost:8080/",
          "height": 634
        },
        "id": "QStxk48C4rR5",
        "outputId": "127b5ab6-5d8d-4048-a8b1-f8db5cf54371"
      },
      "execution_count": null,
      "outputs": [
        {
          "output_type": "execute_result",
          "data": {
            "text/html": [
              "\n",
              "  <div id=\"df-fa1067aa-93a3-409c-8f02-01c66a71012d\">\n",
              "    <div class=\"colab-df-container\">\n",
              "      <div>\n",
              "<style scoped>\n",
              "    .dataframe tbody tr th:only-of-type {\n",
              "        vertical-align: middle;\n",
              "    }\n",
              "\n",
              "    .dataframe tbody tr th {\n",
              "        vertical-align: top;\n",
              "    }\n",
              "\n",
              "    .dataframe thead th {\n",
              "        text-align: right;\n",
              "    }\n",
              "</style>\n",
              "<table border=\"1\" class=\"dataframe\">\n",
              "  <thead>\n",
              "    <tr style=\"text-align: right;\">\n",
              "      <th></th>\n",
              "      <th>Unnamed: 0_x</th>\n",
              "      <th>Unnamed: 0.1</th>\n",
              "      <th>airbnb_listing_id</th>\n",
              "      <th>booked_on</th>\n",
              "      <th>date</th>\n",
              "      <th>price_string</th>\n",
              "      <th>occupied</th>\n",
              "      <th>Unnamed: 0_y</th>\n",
              "      <th>suburb</th>\n",
              "      <th>ad_name</th>\n",
              "      <th>number_of_bedrooms</th>\n",
              "      <th>number_of_bathrooms</th>\n",
              "      <th>star_rating</th>\n",
              "      <th>is_superhost</th>\n",
              "      <th>number_of_reviews</th>\n",
              "    </tr>\n",
              "  </thead>\n",
              "  <tbody>\n",
              "    <tr>\n",
              "      <th>12</th>\n",
              "      <td>12</td>\n",
              "      <td>6452</td>\n",
              "      <td>40206270</td>\n",
              "      <td>2021-01-01 00:00:00</td>\n",
              "      <td>2021-01-01</td>\n",
              "      <td>380.0</td>\n",
              "      <td>1</td>\n",
              "      <td>326</td>\n",
              "      <td>Ingleses</td>\n",
              "      <td>Loft novo próximo ao MAR!!</td>\n",
              "      <td>1.0</td>\n",
              "      <td>1.0</td>\n",
              "      <td>NaN</td>\n",
              "      <td>False</td>\n",
              "      <td>1.0</td>\n",
              "    </tr>\n",
              "    <tr>\n",
              "      <th>13</th>\n",
              "      <td>13</td>\n",
              "      <td>6453</td>\n",
              "      <td>40206270</td>\n",
              "      <td>2021-01-01 00:00:00</td>\n",
              "      <td>2021-01-02</td>\n",
              "      <td>380.0</td>\n",
              "      <td>1</td>\n",
              "      <td>326</td>\n",
              "      <td>Ingleses</td>\n",
              "      <td>Loft novo próximo ao MAR!!</td>\n",
              "      <td>1.0</td>\n",
              "      <td>1.0</td>\n",
              "      <td>NaN</td>\n",
              "      <td>False</td>\n",
              "      <td>1.0</td>\n",
              "    </tr>\n",
              "    <tr>\n",
              "      <th>52</th>\n",
              "      <td>52</td>\n",
              "      <td>6492</td>\n",
              "      <td>40206270</td>\n",
              "      <td>2021-02-10 00:00:00</td>\n",
              "      <td>2021-02-10</td>\n",
              "      <td>195.0</td>\n",
              "      <td>1</td>\n",
              "      <td>326</td>\n",
              "      <td>Ingleses</td>\n",
              "      <td>Loft novo próximo ao MAR!!</td>\n",
              "      <td>1.0</td>\n",
              "      <td>1.0</td>\n",
              "      <td>NaN</td>\n",
              "      <td>False</td>\n",
              "      <td>1.0</td>\n",
              "    </tr>\n",
              "    <tr>\n",
              "      <th>53</th>\n",
              "      <td>53</td>\n",
              "      <td>6493</td>\n",
              "      <td>40206270</td>\n",
              "      <td>2021-02-10 00:00:00</td>\n",
              "      <td>2021-02-11</td>\n",
              "      <td>350.0</td>\n",
              "      <td>1</td>\n",
              "      <td>326</td>\n",
              "      <td>Ingleses</td>\n",
              "      <td>Loft novo próximo ao MAR!!</td>\n",
              "      <td>1.0</td>\n",
              "      <td>1.0</td>\n",
              "      <td>NaN</td>\n",
              "      <td>False</td>\n",
              "      <td>1.0</td>\n",
              "    </tr>\n",
              "    <tr>\n",
              "      <th>54</th>\n",
              "      <td>54</td>\n",
              "      <td>6494</td>\n",
              "      <td>40206270</td>\n",
              "      <td>2021-02-10 00:00:00</td>\n",
              "      <td>2021-02-12</td>\n",
              "      <td>350.0</td>\n",
              "      <td>1</td>\n",
              "      <td>326</td>\n",
              "      <td>Ingleses</td>\n",
              "      <td>Loft novo próximo ao MAR!!</td>\n",
              "      <td>1.0</td>\n",
              "      <td>1.0</td>\n",
              "      <td>NaN</td>\n",
              "      <td>False</td>\n",
              "      <td>1.0</td>\n",
              "    </tr>\n",
              "  </tbody>\n",
              "</table>\n",
              "</div>\n",
              "      <button class=\"colab-df-convert\" onclick=\"convertToInteractive('df-fa1067aa-93a3-409c-8f02-01c66a71012d')\"\n",
              "              title=\"Convert this dataframe to an interactive table.\"\n",
              "              style=\"display:none;\">\n",
              "        \n",
              "  <svg xmlns=\"http://www.w3.org/2000/svg\" height=\"24px\"viewBox=\"0 0 24 24\"\n",
              "       width=\"24px\">\n",
              "    <path d=\"M0 0h24v24H0V0z\" fill=\"none\"/>\n",
              "    <path d=\"M18.56 5.44l.94 2.06.94-2.06 2.06-.94-2.06-.94-.94-2.06-.94 2.06-2.06.94zm-11 1L8.5 8.5l.94-2.06 2.06-.94-2.06-.94L8.5 2.5l-.94 2.06-2.06.94zm10 10l.94 2.06.94-2.06 2.06-.94-2.06-.94-.94-2.06-.94 2.06-2.06.94z\"/><path d=\"M17.41 7.96l-1.37-1.37c-.4-.4-.92-.59-1.43-.59-.52 0-1.04.2-1.43.59L10.3 9.45l-7.72 7.72c-.78.78-.78 2.05 0 2.83L4 21.41c.39.39.9.59 1.41.59.51 0 1.02-.2 1.41-.59l7.78-7.78 2.81-2.81c.8-.78.8-2.07 0-2.86zM5.41 20L4 18.59l7.72-7.72 1.47 1.35L5.41 20z\"/>\n",
              "  </svg>\n",
              "      </button>\n",
              "      \n",
              "  <style>\n",
              "    .colab-df-container {\n",
              "      display:flex;\n",
              "      flex-wrap:wrap;\n",
              "      gap: 12px;\n",
              "    }\n",
              "\n",
              "    .colab-df-convert {\n",
              "      background-color: #E8F0FE;\n",
              "      border: none;\n",
              "      border-radius: 50%;\n",
              "      cursor: pointer;\n",
              "      display: none;\n",
              "      fill: #1967D2;\n",
              "      height: 32px;\n",
              "      padding: 0 0 0 0;\n",
              "      width: 32px;\n",
              "    }\n",
              "\n",
              "    .colab-df-convert:hover {\n",
              "      background-color: #E2EBFA;\n",
              "      box-shadow: 0px 1px 2px rgba(60, 64, 67, 0.3), 0px 1px 3px 1px rgba(60, 64, 67, 0.15);\n",
              "      fill: #174EA6;\n",
              "    }\n",
              "\n",
              "    [theme=dark] .colab-df-convert {\n",
              "      background-color: #3B4455;\n",
              "      fill: #D2E3FC;\n",
              "    }\n",
              "\n",
              "    [theme=dark] .colab-df-convert:hover {\n",
              "      background-color: #434B5C;\n",
              "      box-shadow: 0px 1px 3px 1px rgba(0, 0, 0, 0.15);\n",
              "      filter: drop-shadow(0px 1px 2px rgba(0, 0, 0, 0.3));\n",
              "      fill: #FFFFFF;\n",
              "    }\n",
              "  </style>\n",
              "\n",
              "      <script>\n",
              "        const buttonEl =\n",
              "          document.querySelector('#df-fa1067aa-93a3-409c-8f02-01c66a71012d button.colab-df-convert');\n",
              "        buttonEl.style.display =\n",
              "          google.colab.kernel.accessAllowed ? 'block' : 'none';\n",
              "\n",
              "        async function convertToInteractive(key) {\n",
              "          const element = document.querySelector('#df-fa1067aa-93a3-409c-8f02-01c66a71012d');\n",
              "          const dataTable =\n",
              "            await google.colab.kernel.invokeFunction('convertToInteractive',\n",
              "                                                     [key], {});\n",
              "          if (!dataTable) return;\n",
              "\n",
              "          const docLinkHtml = 'Like what you see? Visit the ' +\n",
              "            '<a target=\"_blank\" href=https://colab.research.google.com/notebooks/data_table.ipynb>data table notebook</a>'\n",
              "            + ' to learn more about interactive tables.';\n",
              "          element.innerHTML = '';\n",
              "          dataTable['output_type'] = 'display_data';\n",
              "          await google.colab.output.renderOutput(dataTable, element);\n",
              "          const docLink = document.createElement('div');\n",
              "          docLink.innerHTML = docLinkHtml;\n",
              "          element.appendChild(docLink);\n",
              "        }\n",
              "      </script>\n",
              "    </div>\n",
              "  </div>\n",
              "  "
            ],
            "text/plain": [
              "    Unnamed: 0_x  Unnamed: 0.1  ...  is_superhost number_of_reviews\n",
              "12            12          6452  ...         False               1.0\n",
              "13            13          6453  ...         False               1.0\n",
              "52            52          6492  ...         False               1.0\n",
              "53            53          6493  ...         False               1.0\n",
              "54            54          6494  ...         False               1.0\n",
              "\n",
              "[5 rows x 15 columns]"
            ]
          },
          "metadata": {},
          "execution_count": 15
        }
      ]
    },
    {
      "cell_type": "code",
      "source": [
        "#Faturamento médio calculado pelor todo o faturamento da região dividido pela quantidade de vezes que esteve ocupado algum anuncio da região\n",
        "df_agg = df_datasalugadas.groupby(\"suburb\").agg({\n",
        "    'price_string': 'sum',\n",
        "    'airbnb_listing_id': 'count'\n",
        "})\n",
        "df_agg['faturamento_medio'] = df_agg['price_string']/df_agg['airbnb_listing_id']\n",
        "df_agg.head()"
      ],
      "metadata": {
        "colab": {
          "base_uri": "https://localhost:8080/",
          "height": 237
        },
        "outputId": "ea84f9eb-6248-484e-90ca-2c9c17b2f95c",
        "id": "Ww3pYftjLhhl"
      },
      "execution_count": null,
      "outputs": [
        {
          "output_type": "execute_result",
          "data": {
            "text/html": [
              "\n",
              "  <div id=\"df-95ce26b0-9d22-4bd7-b045-a7f97a55993c\">\n",
              "    <div class=\"colab-df-container\">\n",
              "      <div>\n",
              "<style scoped>\n",
              "    .dataframe tbody tr th:only-of-type {\n",
              "        vertical-align: middle;\n",
              "    }\n",
              "\n",
              "    .dataframe tbody tr th {\n",
              "        vertical-align: top;\n",
              "    }\n",
              "\n",
              "    .dataframe thead th {\n",
              "        text-align: right;\n",
              "    }\n",
              "</style>\n",
              "<table border=\"1\" class=\"dataframe\">\n",
              "  <thead>\n",
              "    <tr style=\"text-align: right;\">\n",
              "      <th></th>\n",
              "      <th>price_string</th>\n",
              "      <th>airbnb_listing_id</th>\n",
              "      <th>faturamento_medio</th>\n",
              "    </tr>\n",
              "    <tr>\n",
              "      <th>suburb</th>\n",
              "      <th></th>\n",
              "      <th></th>\n",
              "      <th></th>\n",
              "    </tr>\n",
              "  </thead>\n",
              "  <tbody>\n",
              "    <tr>\n",
              "      <th>Canasvieiras</th>\n",
              "      <td>10682106.0</td>\n",
              "      <td>36553</td>\n",
              "      <td>292.236096</td>\n",
              "    </tr>\n",
              "    <tr>\n",
              "      <th>Centro</th>\n",
              "      <td>1591225.0</td>\n",
              "      <td>7691</td>\n",
              "      <td>206.894422</td>\n",
              "    </tr>\n",
              "    <tr>\n",
              "      <th>Ingleses</th>\n",
              "      <td>24263645.0</td>\n",
              "      <td>68313</td>\n",
              "      <td>355.183420</td>\n",
              "    </tr>\n",
              "    <tr>\n",
              "      <th>Jurerê</th>\n",
              "      <td>7757805.0</td>\n",
              "      <td>18735</td>\n",
              "      <td>414.080865</td>\n",
              "    </tr>\n",
              "    <tr>\n",
              "      <th>Lagoa da Conceição</th>\n",
              "      <td>2160116.0</td>\n",
              "      <td>9216</td>\n",
              "      <td>234.387587</td>\n",
              "    </tr>\n",
              "  </tbody>\n",
              "</table>\n",
              "</div>\n",
              "      <button class=\"colab-df-convert\" onclick=\"convertToInteractive('df-95ce26b0-9d22-4bd7-b045-a7f97a55993c')\"\n",
              "              title=\"Convert this dataframe to an interactive table.\"\n",
              "              style=\"display:none;\">\n",
              "        \n",
              "  <svg xmlns=\"http://www.w3.org/2000/svg\" height=\"24px\"viewBox=\"0 0 24 24\"\n",
              "       width=\"24px\">\n",
              "    <path d=\"M0 0h24v24H0V0z\" fill=\"none\"/>\n",
              "    <path d=\"M18.56 5.44l.94 2.06.94-2.06 2.06-.94-2.06-.94-.94-2.06-.94 2.06-2.06.94zm-11 1L8.5 8.5l.94-2.06 2.06-.94-2.06-.94L8.5 2.5l-.94 2.06-2.06.94zm10 10l.94 2.06.94-2.06 2.06-.94-2.06-.94-.94-2.06-.94 2.06-2.06.94z\"/><path d=\"M17.41 7.96l-1.37-1.37c-.4-.4-.92-.59-1.43-.59-.52 0-1.04.2-1.43.59L10.3 9.45l-7.72 7.72c-.78.78-.78 2.05 0 2.83L4 21.41c.39.39.9.59 1.41.59.51 0 1.02-.2 1.41-.59l7.78-7.78 2.81-2.81c.8-.78.8-2.07 0-2.86zM5.41 20L4 18.59l7.72-7.72 1.47 1.35L5.41 20z\"/>\n",
              "  </svg>\n",
              "      </button>\n",
              "      \n",
              "  <style>\n",
              "    .colab-df-container {\n",
              "      display:flex;\n",
              "      flex-wrap:wrap;\n",
              "      gap: 12px;\n",
              "    }\n",
              "\n",
              "    .colab-df-convert {\n",
              "      background-color: #E8F0FE;\n",
              "      border: none;\n",
              "      border-radius: 50%;\n",
              "      cursor: pointer;\n",
              "      display: none;\n",
              "      fill: #1967D2;\n",
              "      height: 32px;\n",
              "      padding: 0 0 0 0;\n",
              "      width: 32px;\n",
              "    }\n",
              "\n",
              "    .colab-df-convert:hover {\n",
              "      background-color: #E2EBFA;\n",
              "      box-shadow: 0px 1px 2px rgba(60, 64, 67, 0.3), 0px 1px 3px 1px rgba(60, 64, 67, 0.15);\n",
              "      fill: #174EA6;\n",
              "    }\n",
              "\n",
              "    [theme=dark] .colab-df-convert {\n",
              "      background-color: #3B4455;\n",
              "      fill: #D2E3FC;\n",
              "    }\n",
              "\n",
              "    [theme=dark] .colab-df-convert:hover {\n",
              "      background-color: #434B5C;\n",
              "      box-shadow: 0px 1px 3px 1px rgba(0, 0, 0, 0.15);\n",
              "      filter: drop-shadow(0px 1px 2px rgba(0, 0, 0, 0.3));\n",
              "      fill: #FFFFFF;\n",
              "    }\n",
              "  </style>\n",
              "\n",
              "      <script>\n",
              "        const buttonEl =\n",
              "          document.querySelector('#df-95ce26b0-9d22-4bd7-b045-a7f97a55993c button.colab-df-convert');\n",
              "        buttonEl.style.display =\n",
              "          google.colab.kernel.accessAllowed ? 'block' : 'none';\n",
              "\n",
              "        async function convertToInteractive(key) {\n",
              "          const element = document.querySelector('#df-95ce26b0-9d22-4bd7-b045-a7f97a55993c');\n",
              "          const dataTable =\n",
              "            await google.colab.kernel.invokeFunction('convertToInteractive',\n",
              "                                                     [key], {});\n",
              "          if (!dataTable) return;\n",
              "\n",
              "          const docLinkHtml = 'Like what you see? Visit the ' +\n",
              "            '<a target=\"_blank\" href=https://colab.research.google.com/notebooks/data_table.ipynb>data table notebook</a>'\n",
              "            + ' to learn more about interactive tables.';\n",
              "          element.innerHTML = '';\n",
              "          dataTable['output_type'] = 'display_data';\n",
              "          await google.colab.output.renderOutput(dataTable, element);\n",
              "          const docLink = document.createElement('div');\n",
              "          docLink.innerHTML = docLinkHtml;\n",
              "          element.appendChild(docLink);\n",
              "        }\n",
              "      </script>\n",
              "    </div>\n",
              "  </div>\n",
              "  "
            ],
            "text/plain": [
              "                    price_string  airbnb_listing_id  faturamento_medio\n",
              "suburb                                                                \n",
              "Canasvieiras          10682106.0              36553         292.236096\n",
              "Centro                 1591225.0               7691         206.894422\n",
              "Ingleses              24263645.0              68313         355.183420\n",
              "Jurerê                 7757805.0              18735         414.080865\n",
              "Lagoa da Conceição     2160116.0               9216         234.387587"
            ]
          },
          "metadata": {},
          "execution_count": 16
        }
      ]
    },
    {
      "cell_type": "code",
      "source": [
        "#Ordenando em ordem decrescente, do maior faturamento médio, ao menor. \n",
        "print(df_agg.sort_values(by=['faturamento_medio'], ascending=False))"
      ],
      "metadata": {
        "colab": {
          "base_uri": "https://localhost:8080/"
        },
        "id": "ePr6ytsKSvpE",
        "outputId": "e659195d-6479-419b-d17b-d4c971485188"
      },
      "execution_count": null,
      "outputs": [
        {
          "output_type": "stream",
          "name": "stdout",
          "text": [
            "                    price_string  airbnb_listing_id  faturamento_medio\n",
            "suburb                                                                \n",
            "Jurerê                 7757805.0              18735         414.080865\n",
            "Ingleses              24263645.0              68313         355.183420\n",
            "Canasvieiras          10682106.0              36553         292.236096\n",
            "Lagoa da Conceição     2160116.0               9216         234.387587\n",
            "Centro                 1591225.0               7691         206.894422\n"
          ]
        }
      ]
    },
    {
      "cell_type": "code",
      "source": [
        "#Gráfico 2: faturamento médio por região \n",
        "grafico2 = sns.lineplot('suburb', 'faturamento_medio', data=df_agg, color=\"grey\")\n",
        "grafico2.set_title(\"Faturamento Médio por Região\")"
      ],
      "metadata": {
        "colab": {
          "base_uri": "https://localhost:8080/",
          "height": 375
        },
        "id": "D9RC7Pp6QEIO",
        "outputId": "c2afc2b0-58d4-4aa8-d077-76993dcc6a62"
      },
      "execution_count": null,
      "outputs": [
        {
          "output_type": "stream",
          "name": "stderr",
          "text": [
            "/usr/local/lib/python3.7/dist-packages/seaborn/_decorators.py:43: FutureWarning: Pass the following variables as keyword args: x, y. From version 0.12, the only valid positional argument will be `data`, and passing other arguments without an explicit keyword will result in an error or misinterpretation.\n",
            "  FutureWarning\n"
          ]
        },
        {
          "output_type": "execute_result",
          "data": {
            "text/plain": [
              "Text(0.5, 1.0, 'Faturamento Médio por Região')"
            ]
          },
          "metadata": {},
          "execution_count": 111
        },
        {
          "output_type": "display_data",
          "data": {
            "image/png": "[encoded data removed]",
            "text/plain": [
              "<Figure size 432x288 with 1 Axes>"
            ]
          },
          "metadata": {}
        }
      ]
    },
    {
      "cell_type": "markdown",
      "source": [
        "##Correlações entre as características de um anúncio e seu faturamento.\n",
        "a. Quais? Explique\n"
      ],
      "metadata": {
        "id": "6lc9E7btKQ3m"
      }
    },
    {
      "cell_type": "code",
      "source": [
        "#faturamento por anuncio e caracteristicas\n",
        "df_3 = df_datasalugadas.groupby(\"airbnb_listing_id\").agg({\n",
        "    'airbnb_listing_id':['count'],\n",
        "    'price_string': ['sum'],\n",
        "    'suburb' : ['count'],\n",
        "    'number_of_bedrooms':['count'],\n",
        "    'number_of_bathrooms':['count'],\n",
        "    'star_rating':['mean'],\n",
        "    'ad_name':['count']\n",
        "    \n",
        "})\n",
        "df_3.head()\n"
      ],
      "metadata": {
        "colab": {
          "base_uri": "https://localhost:8080/"
        },
        "id": "PfeN66L3S4fI",
        "outputId": "54323e63-241b-49e7-8d1b-85d9225ee42f"
      },
      "execution_count": null,
      "outputs": [
        {
          "output_type": "execute_result",
          "data": {
            "text/html": [
              "\n",
              "  <div id=\"df-31825a4e-e43b-49a6-8b39-ab8cd2584dc5\">\n",
              "    <div class=\"colab-df-container\">\n",
              "      <div>\n",
              "<style scoped>\n",
              "    .dataframe tbody tr th:only-of-type {\n",
              "        vertical-align: middle;\n",
              "    }\n",
              "\n",
              "    .dataframe tbody tr th {\n",
              "        vertical-align: top;\n",
              "    }\n",
              "\n",
              "    .dataframe thead tr th {\n",
              "        text-align: left;\n",
              "    }\n",
              "\n",
              "    .dataframe thead tr:last-of-type th {\n",
              "        text-align: right;\n",
              "    }\n",
              "</style>\n",
              "<table border=\"1\" class=\"dataframe\">\n",
              "  <thead>\n",
              "    <tr>\n",
              "      <th></th>\n",
              "      <th>airbnb_listing_id</th>\n",
              "      <th>price_string</th>\n",
              "      <th>suburb</th>\n",
              "      <th>number_of_bedrooms</th>\n",
              "      <th>number_of_bathrooms</th>\n",
              "      <th>star_rating</th>\n",
              "      <th>ad_name</th>\n",
              "    </tr>\n",
              "    <tr>\n",
              "      <th></th>\n",
              "      <th>count</th>\n",
              "      <th>sum</th>\n",
              "      <th>count</th>\n",
              "      <th>count</th>\n",
              "      <th>count</th>\n",
              "      <th>mean</th>\n",
              "      <th>count</th>\n",
              "    </tr>\n",
              "    <tr>\n",
              "      <th>airbnb_listing_id</th>\n",
              "      <th></th>\n",
              "      <th></th>\n",
              "      <th></th>\n",
              "      <th></th>\n",
              "      <th></th>\n",
              "      <th></th>\n",
              "      <th></th>\n",
              "    </tr>\n",
              "  </thead>\n",
              "  <tbody>\n",
              "    <tr>\n",
              "      <th>108658</th>\n",
              "      <td>60</td>\n",
              "      <td>22300.0</td>\n",
              "      <td>60</td>\n",
              "      <td>60</td>\n",
              "      <td>60</td>\n",
              "      <td>NaN</td>\n",
              "      <td>60</td>\n",
              "    </tr>\n",
              "    <tr>\n",
              "      <th>128631</th>\n",
              "      <td>44</td>\n",
              "      <td>28000.0</td>\n",
              "      <td>44</td>\n",
              "      <td>44</td>\n",
              "      <td>44</td>\n",
              "      <td>NaN</td>\n",
              "      <td>44</td>\n",
              "    </tr>\n",
              "    <tr>\n",
              "      <th>279586</th>\n",
              "      <td>13</td>\n",
              "      <td>3190.0</td>\n",
              "      <td>13</td>\n",
              "      <td>13</td>\n",
              "      <td>13</td>\n",
              "      <td>4.5</td>\n",
              "      <td>13</td>\n",
              "    </tr>\n",
              "    <tr>\n",
              "      <th>317970</th>\n",
              "      <td>10</td>\n",
              "      <td>6224.0</td>\n",
              "      <td>10</td>\n",
              "      <td>10</td>\n",
              "      <td>10</td>\n",
              "      <td>4.5</td>\n",
              "      <td>10</td>\n",
              "    </tr>\n",
              "    <tr>\n",
              "      <th>333619</th>\n",
              "      <td>150</td>\n",
              "      <td>24152.0</td>\n",
              "      <td>150</td>\n",
              "      <td>150</td>\n",
              "      <td>150</td>\n",
              "      <td>5.0</td>\n",
              "      <td>150</td>\n",
              "    </tr>\n",
              "  </tbody>\n",
              "</table>\n",
              "</div>\n",
              "      <button class=\"colab-df-convert\" onclick=\"convertToInteractive('df-31825a4e-e43b-49a6-8b39-ab8cd2584dc5')\"\n",
              "              title=\"Convert this dataframe to an interactive table.\"\n",
              "              style=\"display:none;\">\n",
              "        \n",
              "  <svg xmlns=\"http://www.w3.org/2000/svg\" height=\"24px\"viewBox=\"0 0 24 24\"\n",
              "       width=\"24px\">\n",
              "    <path d=\"M0 0h24v24H0V0z\" fill=\"none\"/>\n",
              "    <path d=\"M18.56 5.44l.94 2.06.94-2.06 2.06-.94-2.06-.94-.94-2.06-.94 2.06-2.06.94zm-11 1L8.5 8.5l.94-2.06 2.06-.94-2.06-.94L8.5 2.5l-.94 2.06-2.06.94zm10 10l.94 2.06.94-2.06 2.06-.94-2.06-.94-.94-2.06-.94 2.06-2.06.94z\"/><path d=\"M17.41 7.96l-1.37-1.37c-.4-.4-.92-.59-1.43-.59-.52 0-1.04.2-1.43.59L10.3 9.45l-7.72 7.72c-.78.78-.78 2.05 0 2.83L4 21.41c.39.39.9.59 1.41.59.51 0 1.02-.2 1.41-.59l7.78-7.78 2.81-2.81c.8-.78.8-2.07 0-2.86zM5.41 20L4 18.59l7.72-7.72 1.47 1.35L5.41 20z\"/>\n",
              "  </svg>\n",
              "      </button>\n",
              "      \n",
              "  <style>\n",
              "    .colab-df-container {\n",
              "      display:flex;\n",
              "      flex-wrap:wrap;\n",
              "      gap: 12px;\n",
              "    }\n",
              "\n",
              "    .colab-df-convert {\n",
              "      background-color: #E8F0FE;\n",
              "      border: none;\n",
              "      border-radius: 50%;\n",
              "      cursor: pointer;\n",
              "      display: none;\n",
              "      fill: #1967D2;\n",
              "      height: 32px;\n",
              "      padding: 0 0 0 0;\n",
              "      width: 32px;\n",
              "    }\n",
              "\n",
              "    .colab-df-convert:hover {\n",
              "      background-color: #E2EBFA;\n",
              "      box-shadow: 0px 1px 2px rgba(60, 64, 67, 0.3), 0px 1px 3px 1px rgba(60, 64, 67, 0.15);\n",
              "      fill: #174EA6;\n",
              "    }\n",
              "\n",
              "    [theme=dark] .colab-df-convert {\n",
              "      background-color: #3B4455;\n",
              "      fill: #D2E3FC;\n",
              "    }\n",
              "\n",
              "    [theme=dark] .colab-df-convert:hover {\n",
              "      background-color: #434B5C;\n",
              "      box-shadow: 0px 1px 3px 1px rgba(0, 0, 0, 0.15);\n",
              "      filter: drop-shadow(0px 1px 2px rgba(0, 0, 0, 0.3));\n",
              "      fill: #FFFFFF;\n",
              "    }\n",
              "  </style>\n",
              "\n",
              "      <script>\n",
              "        const buttonEl =\n",
              "          document.querySelector('#df-31825a4e-e43b-49a6-8b39-ab8cd2584dc5 button.colab-df-convert');\n",
              "        buttonEl.style.display =\n",
              "          google.colab.kernel.accessAllowed ? 'block' : 'none';\n",
              "\n",
              "        async function convertToInteractive(key) {\n",
              "          const element = document.querySelector('#df-31825a4e-e43b-49a6-8b39-ab8cd2584dc5');\n",
              "          const dataTable =\n",
              "            await google.colab.kernel.invokeFunction('convertToInteractive',\n",
              "                                                     [key], {});\n",
              "          if (!dataTable) return;\n",
              "\n",
              "          const docLinkHtml = 'Like what you see? Visit the ' +\n",
              "            '<a target=\"_blank\" href=https://colab.research.google.com/notebooks/data_table.ipynb>data table notebook</a>'\n",
              "            + ' to learn more about interactive tables.';\n",
              "          element.innerHTML = '';\n",
              "          dataTable['output_type'] = 'display_data';\n",
              "          await google.colab.output.renderOutput(dataTable, element);\n",
              "          const docLink = document.createElement('div');\n",
              "          docLink.innerHTML = docLinkHtml;\n",
              "          element.appendChild(docLink);\n",
              "        }\n",
              "      </script>\n",
              "    </div>\n",
              "  </div>\n",
              "  "
            ],
            "text/plain": [
              "                  airbnb_listing_id price_string  ... star_rating ad_name\n",
              "                              count          sum  ...        mean   count\n",
              "airbnb_listing_id                                 ...                    \n",
              "108658                           60      22300.0  ...         NaN      60\n",
              "128631                           44      28000.0  ...         NaN      44\n",
              "279586                           13       3190.0  ...         4.5      13\n",
              "317970                           10       6224.0  ...         4.5      10\n",
              "333619                          150      24152.0  ...         5.0     150\n",
              "\n",
              "[5 rows x 7 columns]"
            ]
          },
          "metadata": {},
          "execution_count": 19
        }
      ]
    },
    {
      "cell_type": "code",
      "source": [
        "df_3.columns = ['.'.join(col).strip() if col[1] != \"\" else col[0] for col in df_3.columns.values]"
      ],
      "metadata": {
        "id": "aObBDQ1oR0es"
      },
      "execution_count": null,
      "outputs": []
    },
    {
      "cell_type": "code",
      "source": [
        "df_3.corr()"
      ],
      "metadata": {
        "colab": {
          "base_uri": "https://localhost:8080/"
        },
        "id": "c6_x1gXPSSXS",
        "outputId": "41d50d95-2ffd-47b4-98d7-f4a8c29325b3"
      },
      "execution_count": null,
      "outputs": [
        {
          "output_type": "execute_result",
          "data": {
            "text/html": [
              "\n",
              "  <div id=\"df-952c5419-d3e9-4a4b-85d1-fc8612b3e169\">\n",
              "    <div class=\"colab-df-container\">\n",
              "      <div>\n",
              "<style scoped>\n",
              "    .dataframe tbody tr th:only-of-type {\n",
              "        vertical-align: middle;\n",
              "    }\n",
              "\n",
              "    .dataframe tbody tr th {\n",
              "        vertical-align: top;\n",
              "    }\n",
              "\n",
              "    .dataframe thead th {\n",
              "        text-align: right;\n",
              "    }\n",
              "</style>\n",
              "<table border=\"1\" class=\"dataframe\">\n",
              "  <thead>\n",
              "    <tr style=\"text-align: right;\">\n",
              "      <th></th>\n",
              "      <th>airbnb_listing_id.count</th>\n",
              "      <th>price_string.sum</th>\n",
              "      <th>suburb.count</th>\n",
              "      <th>number_of_bedrooms.count</th>\n",
              "      <th>number_of_bathrooms.count</th>\n",
              "      <th>star_rating.mean</th>\n",
              "      <th>ad_name.count</th>\n",
              "    </tr>\n",
              "  </thead>\n",
              "  <tbody>\n",
              "    <tr>\n",
              "      <th>airbnb_listing_id.count</th>\n",
              "      <td>1.000000</td>\n",
              "      <td>0.759284</td>\n",
              "      <td>1.000000</td>\n",
              "      <td>0.915055</td>\n",
              "      <td>0.999662</td>\n",
              "      <td>0.037124</td>\n",
              "      <td>1.000000</td>\n",
              "    </tr>\n",
              "    <tr>\n",
              "      <th>price_string.sum</th>\n",
              "      <td>0.759284</td>\n",
              "      <td>1.000000</td>\n",
              "      <td>0.759284</td>\n",
              "      <td>0.744029</td>\n",
              "      <td>0.758432</td>\n",
              "      <td>0.068390</td>\n",
              "      <td>0.759284</td>\n",
              "    </tr>\n",
              "    <tr>\n",
              "      <th>suburb.count</th>\n",
              "      <td>1.000000</td>\n",
              "      <td>0.759284</td>\n",
              "      <td>1.000000</td>\n",
              "      <td>0.915055</td>\n",
              "      <td>0.999662</td>\n",
              "      <td>0.037124</td>\n",
              "      <td>1.000000</td>\n",
              "    </tr>\n",
              "    <tr>\n",
              "      <th>number_of_bedrooms.count</th>\n",
              "      <td>0.915055</td>\n",
              "      <td>0.744029</td>\n",
              "      <td>0.915055</td>\n",
              "      <td>1.000000</td>\n",
              "      <td>0.914707</td>\n",
              "      <td>0.032928</td>\n",
              "      <td>0.915055</td>\n",
              "    </tr>\n",
              "    <tr>\n",
              "      <th>number_of_bathrooms.count</th>\n",
              "      <td>0.999662</td>\n",
              "      <td>0.758432</td>\n",
              "      <td>0.999662</td>\n",
              "      <td>0.914707</td>\n",
              "      <td>1.000000</td>\n",
              "      <td>0.037124</td>\n",
              "      <td>0.999662</td>\n",
              "    </tr>\n",
              "    <tr>\n",
              "      <th>star_rating.mean</th>\n",
              "      <td>0.037124</td>\n",
              "      <td>0.068390</td>\n",
              "      <td>0.037124</td>\n",
              "      <td>0.032928</td>\n",
              "      <td>0.037124</td>\n",
              "      <td>1.000000</td>\n",
              "      <td>0.037124</td>\n",
              "    </tr>\n",
              "    <tr>\n",
              "      <th>ad_name.count</th>\n",
              "      <td>1.000000</td>\n",
              "      <td>0.759284</td>\n",
              "      <td>1.000000</td>\n",
              "      <td>0.915055</td>\n",
              "      <td>0.999662</td>\n",
              "      <td>0.037124</td>\n",
              "      <td>1.000000</td>\n",
              "    </tr>\n",
              "  </tbody>\n",
              "</table>\n",
              "</div>\n",
              "      <button class=\"colab-df-convert\" onclick=\"convertToInteractive('df-952c5419-d3e9-4a4b-85d1-fc8612b3e169')\"\n",
              "              title=\"Convert this dataframe to an interactive table.\"\n",
              "              style=\"display:none;\">\n",
              "        \n",
              "  <svg xmlns=\"http://www.w3.org/2000/svg\" height=\"24px\"viewBox=\"0 0 24 24\"\n",
              "       width=\"24px\">\n",
              "    <path d=\"M0 0h24v24H0V0z\" fill=\"none\"/>\n",
              "    <path d=\"M18.56 5.44l.94 2.06.94-2.06 2.06-.94-2.06-.94-.94-2.06-.94 2.06-2.06.94zm-11 1L8.5 8.5l.94-2.06 2.06-.94-2.06-.94L8.5 2.5l-.94 2.06-2.06.94zm10 10l.94 2.06.94-2.06 2.06-.94-2.06-.94-.94-2.06-.94 2.06-2.06.94z\"/><path d=\"M17.41 7.96l-1.37-1.37c-.4-.4-.92-.59-1.43-.59-.52 0-1.04.2-1.43.59L10.3 9.45l-7.72 7.72c-.78.78-.78 2.05 0 2.83L4 21.41c.39.39.9.59 1.41.59.51 0 1.02-.2 1.41-.59l7.78-7.78 2.81-2.81c.8-.78.8-2.07 0-2.86zM5.41 20L4 18.59l7.72-7.72 1.47 1.35L5.41 20z\"/>\n",
              "  </svg>\n",
              "      </button>\n",
              "      \n",
              "  <style>\n",
              "    .colab-df-container {\n",
              "      display:flex;\n",
              "      flex-wrap:wrap;\n",
              "      gap: 12px;\n",
              "    }\n",
              "\n",
              "    .colab-df-convert {\n",
              "      background-color: #E8F0FE;\n",
              "      border: none;\n",
              "      border-radius: 50%;\n",
              "      cursor: pointer;\n",
              "      display: none;\n",
              "      fill: #1967D2;\n",
              "      height: 32px;\n",
              "      padding: 0 0 0 0;\n",
              "      width: 32px;\n",
              "    }\n",
              "\n",
              "    .colab-df-convert:hover {\n",
              "      background-color: #E2EBFA;\n",
              "      box-shadow: 0px 1px 2px rgba(60, 64, 67, 0.3), 0px 1px 3px 1px rgba(60, 64, 67, 0.15);\n",
              "      fill: #174EA6;\n",
              "    }\n",
              "\n",
              "    [theme=dark] .colab-df-convert {\n",
              "      background-color: #3B4455;\n",
              "      fill: #D2E3FC;\n",
              "    }\n",
              "\n",
              "    [theme=dark] .colab-df-convert:hover {\n",
              "      background-color: #434B5C;\n",
              "      box-shadow: 0px 1px 3px 1px rgba(0, 0, 0, 0.15);\n",
              "      filter: drop-shadow(0px 1px 2px rgba(0, 0, 0, 0.3));\n",
              "      fill: #FFFFFF;\n",
              "    }\n",
              "  </style>\n",
              "\n",
              "      <script>\n",
              "        const buttonEl =\n",
              "          document.querySelector('#df-952c5419-d3e9-4a4b-85d1-fc8612b3e169 button.colab-df-convert');\n",
              "        buttonEl.style.display =\n",
              "          google.colab.kernel.accessAllowed ? 'block' : 'none';\n",
              "\n",
              "        async function convertToInteractive(key) {\n",
              "          const element = document.querySelector('#df-952c5419-d3e9-4a4b-85d1-fc8612b3e169');\n",
              "          const dataTable =\n",
              "            await google.colab.kernel.invokeFunction('convertToInteractive',\n",
              "                                                     [key], {});\n",
              "          if (!dataTable) return;\n",
              "\n",
              "          const docLinkHtml = 'Like what you see? Visit the ' +\n",
              "            '<a target=\"_blank\" href=https://colab.research.google.com/notebooks/data_table.ipynb>data table notebook</a>'\n",
              "            + ' to learn more about interactive tables.';\n",
              "          element.innerHTML = '';\n",
              "          dataTable['output_type'] = 'display_data';\n",
              "          await google.colab.output.renderOutput(dataTable, element);\n",
              "          const docLink = document.createElement('div');\n",
              "          docLink.innerHTML = docLinkHtml;\n",
              "          element.appendChild(docLink);\n",
              "        }\n",
              "      </script>\n",
              "    </div>\n",
              "  </div>\n",
              "  "
            ],
            "text/plain": [
              "                           airbnb_listing_id.count  ...  ad_name.count\n",
              "airbnb_listing_id.count                   1.000000  ...       1.000000\n",
              "price_string.sum                          0.759284  ...       0.759284\n",
              "suburb.count                              1.000000  ...       1.000000\n",
              "number_of_bedrooms.count                  0.915055  ...       0.915055\n",
              "number_of_bathrooms.count                 0.999662  ...       0.999662\n",
              "star_rating.mean                          0.037124  ...       0.037124\n",
              "ad_name.count                             1.000000  ...       1.000000\n",
              "\n",
              "[7 rows x 7 columns]"
            ]
          },
          "metadata": {},
          "execution_count": 21
        }
      ]
    },
    {
      "cell_type": "code",
      "source": [
        "sns.pairplot(df_3)"
      ],
      "metadata": {
        "colab": {
          "base_uri": "https://localhost:8080/",
          "height": 1000
        },
        "id": "8QfhWtsHRhmC",
        "outputId": "f215be73-df36-4705-8129-9e7b915efedb"
      },
      "execution_count": null,
      "outputs": [
        {
          "output_type": "execute_result",
          "data": {
            "text/plain": [
              "<seaborn.axisgrid.PairGrid at 0x7fd47c419190>"
            ]
          },
          "metadata": {},
          "execution_count": 22
        },
        {
          "output_type": "display_data",
          "data": {
            "image/png": "[encoded data removed]",
            "text/plain": [
              "<Figure size 1260x1260 with 56 Axes>"
            ]
          },
          "metadata": {
            "needs_background": "light"
          }
        }
      ]
    },
    {
      "cell_type": "code",
      "source": [
        "sns.heatmap(df_3.corr())"
      ],
      "metadata": {
        "colab": {
          "base_uri": "https://localhost:8080/",
          "height": 421
        },
        "id": "ObRf5UAUPUNa",
        "outputId": "38790a18-84f1-48bf-83ec-21504d314416"
      },
      "execution_count": null,
      "outputs": [
        {
          "output_type": "execute_result",
          "data": {
            "text/plain": [
              "<matplotlib.axes._subplots.AxesSubplot at 0x7fd4704e0690>"
            ]
          },
          "metadata": {},
          "execution_count": 106
        },
        {
          "output_type": "display_data",
          "data": {
            "image/png": "[encoded data removed]",
            "text/plain": [
              "<Figure size 432x288 with 2 Axes>"
            ]
          },
          "metadata": {}
        }
      ]
    },
    {
      "cell_type": "markdown",
      "source": [
        "##Antecedência média das reservas.\n",
        "a. Esse número é maior ou menor para finais de semana?"
      ],
      "metadata": {
        "id": "A7TIvyj4Kb1O"
      }
    },
    {
      "cell_type": "code",
      "source": [
        "df_datasalugadas.head()"
      ],
      "metadata": {
        "colab": {
          "base_uri": "https://localhost:8080/"
        },
        "id": "hUb30nygKih7",
        "outputId": "6b439cb6-49a2-4906-dcaa-6a842ff0f604"
      },
      "execution_count": null,
      "outputs": [
        {
          "output_type": "execute_result",
          "data": {
            "text/html": [
              "\n",
              "  <div id=\"df-92b6ebcf-6f3a-43c4-8929-ae6af4635570\">\n",
              "    <div class=\"colab-df-container\">\n",
              "      <div>\n",
              "<style scoped>\n",
              "    .dataframe tbody tr th:only-of-type {\n",
              "        vertical-align: middle;\n",
              "    }\n",
              "\n",
              "    .dataframe tbody tr th {\n",
              "        vertical-align: top;\n",
              "    }\n",
              "\n",
              "    .dataframe thead th {\n",
              "        text-align: right;\n",
              "    }\n",
              "</style>\n",
              "<table border=\"1\" class=\"dataframe\">\n",
              "  <thead>\n",
              "    <tr style=\"text-align: right;\">\n",
              "      <th></th>\n",
              "      <th>Unnamed: 0_x</th>\n",
              "      <th>Unnamed: 0.1</th>\n",
              "      <th>airbnb_listing_id</th>\n",
              "      <th>booked_on</th>\n",
              "      <th>date</th>\n",
              "      <th>price_string</th>\n",
              "      <th>occupied</th>\n",
              "      <th>Unnamed: 0_y</th>\n",
              "      <th>suburb</th>\n",
              "      <th>ad_name</th>\n",
              "      <th>number_of_bedrooms</th>\n",
              "      <th>number_of_bathrooms</th>\n",
              "      <th>star_rating</th>\n",
              "      <th>is_superhost</th>\n",
              "      <th>number_of_reviews</th>\n",
              "    </tr>\n",
              "  </thead>\n",
              "  <tbody>\n",
              "    <tr>\n",
              "      <th>12</th>\n",
              "      <td>12</td>\n",
              "      <td>6452</td>\n",
              "      <td>40206270</td>\n",
              "      <td>2021-01-01 00:00:00</td>\n",
              "      <td>2021-01-01</td>\n",
              "      <td>380.0</td>\n",
              "      <td>1</td>\n",
              "      <td>326</td>\n",
              "      <td>Ingleses</td>\n",
              "      <td>Loft novo próximo ao MAR!!</td>\n",
              "      <td>1.0</td>\n",
              "      <td>1.0</td>\n",
              "      <td>NaN</td>\n",
              "      <td>False</td>\n",
              "      <td>1.0</td>\n",
              "    </tr>\n",
              "    <tr>\n",
              "      <th>13</th>\n",
              "      <td>13</td>\n",
              "      <td>6453</td>\n",
              "      <td>40206270</td>\n",
              "      <td>2021-01-01 00:00:00</td>\n",
              "      <td>2021-01-02</td>\n",
              "      <td>380.0</td>\n",
              "      <td>1</td>\n",
              "      <td>326</td>\n",
              "      <td>Ingleses</td>\n",
              "      <td>Loft novo próximo ao MAR!!</td>\n",
              "      <td>1.0</td>\n",
              "      <td>1.0</td>\n",
              "      <td>NaN</td>\n",
              "      <td>False</td>\n",
              "      <td>1.0</td>\n",
              "    </tr>\n",
              "    <tr>\n",
              "      <th>52</th>\n",
              "      <td>52</td>\n",
              "      <td>6492</td>\n",
              "      <td>40206270</td>\n",
              "      <td>2021-02-10 00:00:00</td>\n",
              "      <td>2021-02-10</td>\n",
              "      <td>195.0</td>\n",
              "      <td>1</td>\n",
              "      <td>326</td>\n",
              "      <td>Ingleses</td>\n",
              "      <td>Loft novo próximo ao MAR!!</td>\n",
              "      <td>1.0</td>\n",
              "      <td>1.0</td>\n",
              "      <td>NaN</td>\n",
              "      <td>False</td>\n",
              "      <td>1.0</td>\n",
              "    </tr>\n",
              "    <tr>\n",
              "      <th>53</th>\n",
              "      <td>53</td>\n",
              "      <td>6493</td>\n",
              "      <td>40206270</td>\n",
              "      <td>2021-02-10 00:00:00</td>\n",
              "      <td>2021-02-11</td>\n",
              "      <td>350.0</td>\n",
              "      <td>1</td>\n",
              "      <td>326</td>\n",
              "      <td>Ingleses</td>\n",
              "      <td>Loft novo próximo ao MAR!!</td>\n",
              "      <td>1.0</td>\n",
              "      <td>1.0</td>\n",
              "      <td>NaN</td>\n",
              "      <td>False</td>\n",
              "      <td>1.0</td>\n",
              "    </tr>\n",
              "    <tr>\n",
              "      <th>54</th>\n",
              "      <td>54</td>\n",
              "      <td>6494</td>\n",
              "      <td>40206270</td>\n",
              "      <td>2021-02-10 00:00:00</td>\n",
              "      <td>2021-02-12</td>\n",
              "      <td>350.0</td>\n",
              "      <td>1</td>\n",
              "      <td>326</td>\n",
              "      <td>Ingleses</td>\n",
              "      <td>Loft novo próximo ao MAR!!</td>\n",
              "      <td>1.0</td>\n",
              "      <td>1.0</td>\n",
              "      <td>NaN</td>\n",
              "      <td>False</td>\n",
              "      <td>1.0</td>\n",
              "    </tr>\n",
              "  </tbody>\n",
              "</table>\n",
              "</div>\n",
              "      <button class=\"colab-df-convert\" onclick=\"convertToInteractive('df-92b6ebcf-6f3a-43c4-8929-ae6af4635570')\"\n",
              "              title=\"Convert this dataframe to an interactive table.\"\n",
              "              style=\"display:none;\">\n",
              "        \n",
              "  <svg xmlns=\"http://www.w3.org/2000/svg\" height=\"24px\"viewBox=\"0 0 24 24\"\n",
              "       width=\"24px\">\n",
              "    <path d=\"M0 0h24v24H0V0z\" fill=\"none\"/>\n",
              "    <path d=\"M18.56 5.44l.94 2.06.94-2.06 2.06-.94-2.06-.94-.94-2.06-.94 2.06-2.06.94zm-11 1L8.5 8.5l.94-2.06 2.06-.94-2.06-.94L8.5 2.5l-.94 2.06-2.06.94zm10 10l.94 2.06.94-2.06 2.06-.94-2.06-.94-.94-2.06-.94 2.06-2.06.94z\"/><path d=\"M17.41 7.96l-1.37-1.37c-.4-.4-.92-.59-1.43-.59-.52 0-1.04.2-1.43.59L10.3 9.45l-7.72 7.72c-.78.78-.78 2.05 0 2.83L4 21.41c.39.39.9.59 1.41.59.51 0 1.02-.2 1.41-.59l7.78-7.78 2.81-2.81c.8-.78.8-2.07 0-2.86zM5.41 20L4 18.59l7.72-7.72 1.47 1.35L5.41 20z\"/>\n",
              "  </svg>\n",
              "      </button>\n",
              "      \n",
              "  <style>\n",
              "    .colab-df-container {\n",
              "      display:flex;\n",
              "      flex-wrap:wrap;\n",
              "      gap: 12px;\n",
              "    }\n",
              "\n",
              "    .colab-df-convert {\n",
              "      background-color: #E8F0FE;\n",
              "      border: none;\n",
              "      border-radius: 50%;\n",
              "      cursor: pointer;\n",
              "      display: none;\n",
              "      fill: #1967D2;\n",
              "      height: 32px;\n",
              "      padding: 0 0 0 0;\n",
              "      width: 32px;\n",
              "    }\n",
              "\n",
              "    .colab-df-convert:hover {\n",
              "      background-color: #E2EBFA;\n",
              "      box-shadow: 0px 1px 2px rgba(60, 64, 67, 0.3), 0px 1px 3px 1px rgba(60, 64, 67, 0.15);\n",
              "      fill: #174EA6;\n",
              "    }\n",
              "\n",
              "    [theme=dark] .colab-df-convert {\n",
              "      background-color: #3B4455;\n",
              "      fill: #D2E3FC;\n",
              "    }\n",
              "\n",
              "    [theme=dark] .colab-df-convert:hover {\n",
              "      background-color: #434B5C;\n",
              "      box-shadow: 0px 1px 3px 1px rgba(0, 0, 0, 0.15);\n",
              "      filter: drop-shadow(0px 1px 2px rgba(0, 0, 0, 0.3));\n",
              "      fill: #FFFFFF;\n",
              "    }\n",
              "  </style>\n",
              "\n",
              "      <script>\n",
              "        const buttonEl =\n",
              "          document.querySelector('#df-92b6ebcf-6f3a-43c4-8929-ae6af4635570 button.colab-df-convert');\n",
              "        buttonEl.style.display =\n",
              "          google.colab.kernel.accessAllowed ? 'block' : 'none';\n",
              "\n",
              "        async function convertToInteractive(key) {\n",
              "          const element = document.querySelector('#df-92b6ebcf-6f3a-43c4-8929-ae6af4635570');\n",
              "          const dataTable =\n",
              "            await google.colab.kernel.invokeFunction('convertToInteractive',\n",
              "                                                     [key], {});\n",
              "          if (!dataTable) return;\n",
              "\n",
              "          const docLinkHtml = 'Like what you see? Visit the ' +\n",
              "            '<a target=\"_blank\" href=https://colab.research.google.com/notebooks/data_table.ipynb>data table notebook</a>'\n",
              "            + ' to learn more about interactive tables.';\n",
              "          element.innerHTML = '';\n",
              "          dataTable['output_type'] = 'display_data';\n",
              "          await google.colab.output.renderOutput(dataTable, element);\n",
              "          const docLink = document.createElement('div');\n",
              "          docLink.innerHTML = docLinkHtml;\n",
              "          element.appendChild(docLink);\n",
              "        }\n",
              "      </script>\n",
              "    </div>\n",
              "  </div>\n",
              "  "
            ],
            "text/plain": [
              "    Unnamed: 0_x  Unnamed: 0.1  ...  is_superhost number_of_reviews\n",
              "12            12          6452  ...         False               1.0\n",
              "13            13          6453  ...         False               1.0\n",
              "52            52          6492  ...         False               1.0\n",
              "53            53          6493  ...         False               1.0\n",
              "54            54          6494  ...         False               1.0\n",
              "\n",
              "[5 rows x 15 columns]"
            ]
          },
          "metadata": {},
          "execution_count": 24
        }
      ]
    },
    {
      "cell_type": "code",
      "source": [
        "#Verificando o typo de variável\n",
        "df_datasalugadas.dtypes"
      ],
      "metadata": {
        "colab": {
          "base_uri": "https://localhost:8080/"
        },
        "id": "Kky9nCDKVKJt",
        "outputId": "684d07e0-c336-42eb-e10f-3fa0d676cb21"
      },
      "execution_count": null,
      "outputs": [
        {
          "output_type": "execute_result",
          "data": {
            "text/plain": [
              "Unnamed: 0_x                    int64\n",
              "Unnamed: 0.1                    int64\n",
              "airbnb_listing_id               int64\n",
              "booked_on                      object\n",
              "date                   datetime64[ns]\n",
              "price_string                  float64\n",
              "occupied                        int64\n",
              "Unnamed: 0_y                    int64\n",
              "suburb                         object\n",
              "ad_name                        object\n",
              "number_of_bedrooms            float64\n",
              "number_of_bathrooms           float64\n",
              "star_rating                   float64\n",
              "is_superhost                     bool\n",
              "number_of_reviews             float64\n",
              "dtype: object"
            ]
          },
          "metadata": {},
          "execution_count": 25
        }
      ]
    },
    {
      "cell_type": "code",
      "source": [
        "#Transformando booked_on em datetime\n",
        "df_datasalugadas['booked_on'] = pd.to_datetime(df_datasalugadas['booked_on'])\n",
        "df_datasalugadas.dtypes\n"
      ],
      "metadata": {
        "id": "KF2Psb4gWR0Z",
        "colab": {
          "base_uri": "https://localhost:8080/"
        },
        "outputId": "e2c9dc3d-7626-476f-cf21-dcbf4e03b853"
      },
      "execution_count": null,
      "outputs": [
        {
          "output_type": "stream",
          "name": "stderr",
          "text": [
            "/usr/local/lib/python3.7/dist-packages/ipykernel_launcher.py:2: SettingWithCopyWarning: \n",
            "A value is trying to be set on a copy of a slice from a DataFrame.\n",
            "Try using .loc[row_indexer,col_indexer] = value instead\n",
            "\n",
            "See the caveats in the documentation: https://pandas.pydata.org/pandas-docs/stable/user_guide/indexing.html#returning-a-view-versus-a-copy\n",
            "  \n"
          ]
        },
        {
          "output_type": "execute_result",
          "data": {
            "text/plain": [
              "Unnamed: 0_x                    int64\n",
              "Unnamed: 0.1                    int64\n",
              "airbnb_listing_id               int64\n",
              "booked_on              datetime64[ns]\n",
              "date                   datetime64[ns]\n",
              "price_string                  float64\n",
              "occupied                        int64\n",
              "Unnamed: 0_y                    int64\n",
              "suburb                         object\n",
              "ad_name                        object\n",
              "number_of_bedrooms            float64\n",
              "number_of_bathrooms           float64\n",
              "star_rating                   float64\n",
              "is_superhost                     bool\n",
              "number_of_reviews             float64\n",
              "dtype: object"
            ]
          },
          "metadata": {},
          "execution_count": 26
        }
      ]
    },
    {
      "cell_type": "code",
      "source": [
        "#Calculando a Antecedência de Reserva\n",
        "df_datasalugadas['Antecedência de Reserva'] = df_datasalugadas['date'] - df_datasalugadas['booked_on']\n"
      ],
      "metadata": {
        "id": "qhXCpZjJWX4o",
        "colab": {
          "base_uri": "https://localhost:8080/"
        },
        "outputId": "fd70ca83-e51d-4bab-aba8-ce7e8fbb63c0"
      },
      "execution_count": null,
      "outputs": [
        {
          "output_type": "stream",
          "name": "stderr",
          "text": [
            "/usr/local/lib/python3.7/dist-packages/ipykernel_launcher.py:2: SettingWithCopyWarning: \n",
            "A value is trying to be set on a copy of a slice from a DataFrame.\n",
            "Try using .loc[row_indexer,col_indexer] = value instead\n",
            "\n",
            "See the caveats in the documentation: https://pandas.pydata.org/pandas-docs/stable/user_guide/indexing.html#returning-a-view-versus-a-copy\n",
            "  \n"
          ]
        }
      ]
    },
    {
      "cell_type": "code",
      "source": [
        "df_datasalugadas['Antecedência de Reserva']"
      ],
      "metadata": {
        "colab": {
          "base_uri": "https://localhost:8080/"
        },
        "id": "9xKUjvxN0kXp",
        "outputId": "7d697dda-73f1-4f61-d726-4757c28c0182"
      },
      "execution_count": null,
      "outputs": [
        {
          "output_type": "execute_result",
          "data": {
            "text/plain": [
              "12         0 days\n",
              "13         1 days\n",
              "52         0 days\n",
              "53         1 days\n",
              "54         2 days\n",
              "           ...   \n",
              "354508   184 days\n",
              "354514   192 days\n",
              "354517   195 days\n",
              "354518   196 days\n",
              "354519   117 days\n",
              "Name: Antecedência de Reserva, Length: 140508, dtype: timedelta64[ns]"
            ]
          },
          "metadata": {},
          "execution_count": 28
        }
      ]
    },
    {
      "cell_type": "code",
      "source": [
        "df_datasalugadas['Antecedência de Reserva'] = df_datasalugadas['Antecedência de Reserva'].map(lambda x: x.components.days)\n"
      ],
      "metadata": {
        "colab": {
          "base_uri": "https://localhost:8080/"
        },
        "id": "joxLDUE40ohz",
        "outputId": "0395ae93-ff13-40d4-e0c4-2a2e884335a6"
      },
      "execution_count": null,
      "outputs": [
        {
          "output_type": "stream",
          "name": "stderr",
          "text": [
            "/usr/local/lib/python3.7/dist-packages/ipykernel_launcher.py:1: SettingWithCopyWarning: \n",
            "A value is trying to be set on a copy of a slice from a DataFrame.\n",
            "Try using .loc[row_indexer,col_indexer] = value instead\n",
            "\n",
            "See the caveats in the documentation: https://pandas.pydata.org/pandas-docs/stable/user_guide/indexing.html#returning-a-view-versus-a-copy\n",
            "  \"\"\"Entry point for launching an IPython kernel.\n"
          ]
        }
      ]
    },
    {
      "cell_type": "code",
      "source": [
        "df_datasalugadas['Antecedência de Reserva']"
      ],
      "metadata": {
        "colab": {
          "base_uri": "https://localhost:8080/"
        },
        "id": "MP8pw0tM19Hn",
        "outputId": "043d8787-438c-4648-f2cd-413848b221e9"
      },
      "execution_count": null,
      "outputs": [
        {
          "output_type": "execute_result",
          "data": {
            "text/plain": [
              "12          0\n",
              "13          1\n",
              "52          0\n",
              "53          1\n",
              "54          2\n",
              "         ... \n",
              "354508    184\n",
              "354514    192\n",
              "354517    195\n",
              "354518    196\n",
              "354519    117\n",
              "Name: Antecedência de Reserva, Length: 140508, dtype: int64"
            ]
          },
          "metadata": {},
          "execution_count": 30
        }
      ]
    },
    {
      "cell_type": "code",
      "source": [
        "#Verificando Outliers\n",
        "df_datasalugadas['Antecedência de Reserva'].describe(percentiles=[0.01,0.1,0.25,0.50,0.75,0.90,0.99])"
      ],
      "metadata": {
        "colab": {
          "base_uri": "https://localhost:8080/"
        },
        "id": "P6ZF9WcAxe65",
        "outputId": "d5ca4b84-a2a2-4c33-c38d-a5728bdb15a0"
      },
      "execution_count": null,
      "outputs": [
        {
          "output_type": "execute_result",
          "data": {
            "text/plain": [
              "count    140508.000000\n",
              "mean         37.841696\n",
              "std          76.210675\n",
              "min           0.000000\n",
              "1%            0.000000\n",
              "10%           0.000000\n",
              "25%           1.000000\n",
              "50%          11.000000\n",
              "75%          42.000000\n",
              "90%          98.000000\n",
              "99%         335.000000\n",
              "max        7644.000000\n",
              "Name: Antecedência de Reserva, dtype: float64"
            ]
          },
          "metadata": {},
          "execution_count": 32
        }
      ]
    },
    {
      "cell_type": "code",
      "source": [
        "df_datasalugadas['Antecedência de Reserva'].sort_values()\n"
      ],
      "metadata": {
        "colab": {
          "base_uri": "https://localhost:8080/"
        },
        "id": "RANfwtRP1e2J",
        "outputId": "c83750fe-5f99-4ea8-cb62-d1c0968840b3"
      },
      "execution_count": null,
      "outputs": [
        {
          "output_type": "execute_result",
          "data": {
            "text/plain": [
              "12           0\n",
              "85443        0\n",
              "85444        0\n",
              "85446        0\n",
              "85450        0\n",
              "          ... \n",
              "120661     369\n",
              "120662     370\n",
              "76559     7622\n",
              "302698    7644\n",
              "238097    7644\n",
              "Name: Antecedência de Reserva, Length: 140508, dtype: int64"
            ]
          },
          "metadata": {},
          "execution_count": 33
        }
      ]
    },
    {
      "cell_type": "code",
      "source": [
        "df_remove = df_datasalugadas.loc[(df_datasalugadas['Antecedência de Reserva'] > 371)]\n",
        "df_datasalugadas = df_datasalugadas.drop(df_remove.index)\n",
        "df_datasalugadas['Antecedência de Reserva'].sort_values()"
      ],
      "metadata": {
        "colab": {
          "base_uri": "https://localhost:8080/"
        },
        "id": "OYCFnP464bMb",
        "outputId": "1087ef4d-c19f-44e6-bc7a-7098d58696c8"
      },
      "execution_count": null,
      "outputs": [
        {
          "output_type": "execute_result",
          "data": {
            "text/plain": [
              "12          0\n",
              "85444       0\n",
              "85446       0\n",
              "85450       0\n",
              "85451       0\n",
              "         ... \n",
              "120659    367\n",
              "50439     368\n",
              "120660    368\n",
              "120661    369\n",
              "120662    370\n",
              "Name: Antecedência de Reserva, Length: 140505, dtype: int64"
            ]
          },
          "metadata": {},
          "execution_count": 34
        }
      ]
    },
    {
      "cell_type": "code",
      "source": [
        "print('A antecedência média das reservas é de:', df_datasalugadas['Antecedência de Reserva'].mean(),'dias.')\n",
        "\n",
        "#como arredondar esse valor"
      ],
      "metadata": {
        "colab": {
          "base_uri": "https://localhost:8080/"
        },
        "id": "iG3jO6KcW4Zn",
        "outputId": "b460474c-0203-4e74-d219-089e5b05917d"
      },
      "execution_count": null,
      "outputs": [
        {
          "output_type": "stream",
          "name": "stdout",
          "text": [
            "A antecedência média das reservas é de: 37.6794491299242 dias.\n"
          ]
        }
      ]
    },
    {
      "cell_type": "code",
      "source": [
        "#Criando uma coluna com os dias da semana \n",
        "df_datasalugadas['day_of_week'] = df_datasalugadas['date'].dt.day_name()\n"
      ],
      "metadata": {
        "id": "YXlWj0w3YMXC"
      },
      "execution_count": null,
      "outputs": []
    },
    {
      "cell_type": "code",
      "source": [
        "#Limpando os dados para utilização apenas do que serão necessários \n",
        "\n",
        "df_mask = df_datasalugadas[['airbnb_listing_id','booked_on','date','price_string','occupied','suburb','Antecedência de Reserva','day_of_week']]\n",
        "df_mask.head()"
      ],
      "metadata": {
        "colab": {
          "base_uri": "https://localhost:8080/"
        },
        "id": "mJvSOuzEe5B3",
        "outputId": "42e85dbc-ba79-4789-cce8-7220f5080252"
      },
      "execution_count": null,
      "outputs": [
        {
          "output_type": "execute_result",
          "data": {
            "text/html": [
              "\n",
              "  <div id=\"df-49ffe662-8fea-4972-b828-7e0df7f2c4b7\">\n",
              "    <div class=\"colab-df-container\">\n",
              "      <div>\n",
              "<style scoped>\n",
              "    .dataframe tbody tr th:only-of-type {\n",
              "        vertical-align: middle;\n",
              "    }\n",
              "\n",
              "    .dataframe tbody tr th {\n",
              "        vertical-align: top;\n",
              "    }\n",
              "\n",
              "    .dataframe thead th {\n",
              "        text-align: right;\n",
              "    }\n",
              "</style>\n",
              "<table border=\"1\" class=\"dataframe\">\n",
              "  <thead>\n",
              "    <tr style=\"text-align: right;\">\n",
              "      <th></th>\n",
              "      <th>airbnb_listing_id</th>\n",
              "      <th>booked_on</th>\n",
              "      <th>date</th>\n",
              "      <th>price_string</th>\n",
              "      <th>occupied</th>\n",
              "      <th>suburb</th>\n",
              "      <th>Antecedência de Reserva</th>\n",
              "      <th>day_of_week</th>\n",
              "    </tr>\n",
              "  </thead>\n",
              "  <tbody>\n",
              "    <tr>\n",
              "      <th>12</th>\n",
              "      <td>40206270</td>\n",
              "      <td>2021-01-01</td>\n",
              "      <td>2021-01-01</td>\n",
              "      <td>380.0</td>\n",
              "      <td>1</td>\n",
              "      <td>Ingleses</td>\n",
              "      <td>0</td>\n",
              "      <td>Friday</td>\n",
              "    </tr>\n",
              "    <tr>\n",
              "      <th>13</th>\n",
              "      <td>40206270</td>\n",
              "      <td>2021-01-01</td>\n",
              "      <td>2021-01-02</td>\n",
              "      <td>380.0</td>\n",
              "      <td>1</td>\n",
              "      <td>Ingleses</td>\n",
              "      <td>1</td>\n",
              "      <td>Saturday</td>\n",
              "    </tr>\n",
              "    <tr>\n",
              "      <th>52</th>\n",
              "      <td>40206270</td>\n",
              "      <td>2021-02-10</td>\n",
              "      <td>2021-02-10</td>\n",
              "      <td>195.0</td>\n",
              "      <td>1</td>\n",
              "      <td>Ingleses</td>\n",
              "      <td>0</td>\n",
              "      <td>Wednesday</td>\n",
              "    </tr>\n",
              "    <tr>\n",
              "      <th>53</th>\n",
              "      <td>40206270</td>\n",
              "      <td>2021-02-10</td>\n",
              "      <td>2021-02-11</td>\n",
              "      <td>350.0</td>\n",
              "      <td>1</td>\n",
              "      <td>Ingleses</td>\n",
              "      <td>1</td>\n",
              "      <td>Thursday</td>\n",
              "    </tr>\n",
              "    <tr>\n",
              "      <th>54</th>\n",
              "      <td>40206270</td>\n",
              "      <td>2021-02-10</td>\n",
              "      <td>2021-02-12</td>\n",
              "      <td>350.0</td>\n",
              "      <td>1</td>\n",
              "      <td>Ingleses</td>\n",
              "      <td>2</td>\n",
              "      <td>Friday</td>\n",
              "    </tr>\n",
              "  </tbody>\n",
              "</table>\n",
              "</div>\n",
              "      <button class=\"colab-df-convert\" onclick=\"convertToInteractive('df-49ffe662-8fea-4972-b828-7e0df7f2c4b7')\"\n",
              "              title=\"Convert this dataframe to an interactive table.\"\n",
              "              style=\"display:none;\">\n",
              "        \n",
              "  <svg xmlns=\"http://www.w3.org/2000/svg\" height=\"24px\"viewBox=\"0 0 24 24\"\n",
              "       width=\"24px\">\n",
              "    <path d=\"M0 0h24v24H0V0z\" fill=\"none\"/>\n",
              "    <path d=\"M18.56 5.44l.94 2.06.94-2.06 2.06-.94-2.06-.94-.94-2.06-.94 2.06-2.06.94zm-11 1L8.5 8.5l.94-2.06 2.06-.94-2.06-.94L8.5 2.5l-.94 2.06-2.06.94zm10 10l.94 2.06.94-2.06 2.06-.94-2.06-.94-.94-2.06-.94 2.06-2.06.94z\"/><path d=\"M17.41 7.96l-1.37-1.37c-.4-.4-.92-.59-1.43-.59-.52 0-1.04.2-1.43.59L10.3 9.45l-7.72 7.72c-.78.78-.78 2.05 0 2.83L4 21.41c.39.39.9.59 1.41.59.51 0 1.02-.2 1.41-.59l7.78-7.78 2.81-2.81c.8-.78.8-2.07 0-2.86zM5.41 20L4 18.59l7.72-7.72 1.47 1.35L5.41 20z\"/>\n",
              "  </svg>\n",
              "      </button>\n",
              "      \n",
              "  <style>\n",
              "    .colab-df-container {\n",
              "      display:flex;\n",
              "      flex-wrap:wrap;\n",
              "      gap: 12px;\n",
              "    }\n",
              "\n",
              "    .colab-df-convert {\n",
              "      background-color: #E8F0FE;\n",
              "      border: none;\n",
              "      border-radius: 50%;\n",
              "      cursor: pointer;\n",
              "      display: none;\n",
              "      fill: #1967D2;\n",
              "      height: 32px;\n",
              "      padding: 0 0 0 0;\n",
              "      width: 32px;\n",
              "    }\n",
              "\n",
              "    .colab-df-convert:hover {\n",
              "      background-color: #E2EBFA;\n",
              "      box-shadow: 0px 1px 2px rgba(60, 64, 67, 0.3), 0px 1px 3px 1px rgba(60, 64, 67, 0.15);\n",
              "      fill: #174EA6;\n",
              "    }\n",
              "\n",
              "    [theme=dark] .colab-df-convert {\n",
              "      background-color: #3B4455;\n",
              "      fill: #D2E3FC;\n",
              "    }\n",
              "\n",
              "    [theme=dark] .colab-df-convert:hover {\n",
              "      background-color: #434B5C;\n",
              "      box-shadow: 0px 1px 3px 1px rgba(0, 0, 0, 0.15);\n",
              "      filter: drop-shadow(0px 1px 2px rgba(0, 0, 0, 0.3));\n",
              "      fill: #FFFFFF;\n",
              "    }\n",
              "  </style>\n",
              "\n",
              "      <script>\n",
              "        const buttonEl =\n",
              "          document.querySelector('#df-49ffe662-8fea-4972-b828-7e0df7f2c4b7 button.colab-df-convert');\n",
              "        buttonEl.style.display =\n",
              "          google.colab.kernel.accessAllowed ? 'block' : 'none';\n",
              "\n",
              "        async function convertToInteractive(key) {\n",
              "          const element = document.querySelector('#df-49ffe662-8fea-4972-b828-7e0df7f2c4b7');\n",
              "          const dataTable =\n",
              "            await google.colab.kernel.invokeFunction('convertToInteractive',\n",
              "                                                     [key], {});\n",
              "          if (!dataTable) return;\n",
              "\n",
              "          const docLinkHtml = 'Like what you see? Visit the ' +\n",
              "            '<a target=\"_blank\" href=https://colab.research.google.com/notebooks/data_table.ipynb>data table notebook</a>'\n",
              "            + ' to learn more about interactive tables.';\n",
              "          element.innerHTML = '';\n",
              "          dataTable['output_type'] = 'display_data';\n",
              "          await google.colab.output.renderOutput(dataTable, element);\n",
              "          const docLink = document.createElement('div');\n",
              "          docLink.innerHTML = docLinkHtml;\n",
              "          element.appendChild(docLink);\n",
              "        }\n",
              "      </script>\n",
              "    </div>\n",
              "  </div>\n",
              "  "
            ],
            "text/plain": [
              "    airbnb_listing_id  booked_on  ... Antecedência de Reserva  day_of_week\n",
              "12           40206270 2021-01-01  ...                       0       Friday\n",
              "13           40206270 2021-01-01  ...                       1     Saturday\n",
              "52           40206270 2021-02-10  ...                       0    Wednesday\n",
              "53           40206270 2021-02-10  ...                       1     Thursday\n",
              "54           40206270 2021-02-10  ...                       2       Friday\n",
              "\n",
              "[5 rows x 8 columns]"
            ]
          },
          "metadata": {},
          "execution_count": 41
        }
      ]
    },
    {
      "cell_type": "code",
      "source": [
        "df_4 = df_mask[['airbnb_listing_id','Antecedência de Reserva', 'day_of_week']]\n"
      ],
      "metadata": {
        "id": "REU0-n6bFtAE"
      },
      "execution_count": null,
      "outputs": []
    },
    {
      "cell_type": "code",
      "source": [
        "df_4 = df_4.groupby(\"day_of_week\").agg({\n",
        "      'Antecedência de Reserva': 'mean',\n",
        "})\n",
        "df_4['Antecedência de Reserva'] =  df_4['Antecedência de Reserva'].round(0)\n",
        "df_4"
      ],
      "metadata": {
        "colab": {
          "base_uri": "https://localhost:8080/"
        },
        "id": "rtVs0JAEGD50",
        "outputId": "ab4ecf68-50ab-4e8e-abab-23ddbc1a75c9"
      },
      "execution_count": null,
      "outputs": [
        {
          "output_type": "execute_result",
          "data": {
            "text/html": [
              "\n",
              "  <div id=\"df-fd526e81-309c-4991-8f41-49e8a2f374e8\">\n",
              "    <div class=\"colab-df-container\">\n",
              "      <div>\n",
              "<style scoped>\n",
              "    .dataframe tbody tr th:only-of-type {\n",
              "        vertical-align: middle;\n",
              "    }\n",
              "\n",
              "    .dataframe tbody tr th {\n",
              "        vertical-align: top;\n",
              "    }\n",
              "\n",
              "    .dataframe thead th {\n",
              "        text-align: right;\n",
              "    }\n",
              "</style>\n",
              "<table border=\"1\" class=\"dataframe\">\n",
              "  <thead>\n",
              "    <tr style=\"text-align: right;\">\n",
              "      <th></th>\n",
              "      <th>Antecedência de Reserva</th>\n",
              "    </tr>\n",
              "    <tr>\n",
              "      <th>day_of_week</th>\n",
              "      <th></th>\n",
              "    </tr>\n",
              "  </thead>\n",
              "  <tbody>\n",
              "    <tr>\n",
              "      <th>Friday</th>\n",
              "      <td>37.0</td>\n",
              "    </tr>\n",
              "    <tr>\n",
              "      <th>Monday</th>\n",
              "      <td>37.0</td>\n",
              "    </tr>\n",
              "    <tr>\n",
              "      <th>Saturday</th>\n",
              "      <td>36.0</td>\n",
              "    </tr>\n",
              "    <tr>\n",
              "      <th>Sunday</th>\n",
              "      <td>37.0</td>\n",
              "    </tr>\n",
              "    <tr>\n",
              "      <th>Thursday</th>\n",
              "      <td>39.0</td>\n",
              "    </tr>\n",
              "    <tr>\n",
              "      <th>Tuesday</th>\n",
              "      <td>37.0</td>\n",
              "    </tr>\n",
              "    <tr>\n",
              "      <th>Wednesday</th>\n",
              "      <td>39.0</td>\n",
              "    </tr>\n",
              "  </tbody>\n",
              "</table>\n",
              "</div>\n",
              "      <button class=\"colab-df-convert\" onclick=\"convertToInteractive('df-fd526e81-309c-4991-8f41-49e8a2f374e8')\"\n",
              "              title=\"Convert this dataframe to an interactive table.\"\n",
              "              style=\"display:none;\">\n",
              "        \n",
              "  <svg xmlns=\"http://www.w3.org/2000/svg\" height=\"24px\"viewBox=\"0 0 24 24\"\n",
              "       width=\"24px\">\n",
              "    <path d=\"M0 0h24v24H0V0z\" fill=\"none\"/>\n",
              "    <path d=\"M18.56 5.44l.94 2.06.94-2.06 2.06-.94-2.06-.94-.94-2.06-.94 2.06-2.06.94zm-11 1L8.5 8.5l.94-2.06 2.06-.94-2.06-.94L8.5 2.5l-.94 2.06-2.06.94zm10 10l.94 2.06.94-2.06 2.06-.94-2.06-.94-.94-2.06-.94 2.06-2.06.94z\"/><path d=\"M17.41 7.96l-1.37-1.37c-.4-.4-.92-.59-1.43-.59-.52 0-1.04.2-1.43.59L10.3 9.45l-7.72 7.72c-.78.78-.78 2.05 0 2.83L4 21.41c.39.39.9.59 1.41.59.51 0 1.02-.2 1.41-.59l7.78-7.78 2.81-2.81c.8-.78.8-2.07 0-2.86zM5.41 20L4 18.59l7.72-7.72 1.47 1.35L5.41 20z\"/>\n",
              "  </svg>\n",
              "      </button>\n",
              "      \n",
              "  <style>\n",
              "    .colab-df-container {\n",
              "      display:flex;\n",
              "      flex-wrap:wrap;\n",
              "      gap: 12px;\n",
              "    }\n",
              "\n",
              "    .colab-df-convert {\n",
              "      background-color: #E8F0FE;\n",
              "      border: none;\n",
              "      border-radius: 50%;\n",
              "      cursor: pointer;\n",
              "      display: none;\n",
              "      fill: #1967D2;\n",
              "      height: 32px;\n",
              "      padding: 0 0 0 0;\n",
              "      width: 32px;\n",
              "    }\n",
              "\n",
              "    .colab-df-convert:hover {\n",
              "      background-color: #E2EBFA;\n",
              "      box-shadow: 0px 1px 2px rgba(60, 64, 67, 0.3), 0px 1px 3px 1px rgba(60, 64, 67, 0.15);\n",
              "      fill: #174EA6;\n",
              "    }\n",
              "\n",
              "    [theme=dark] .colab-df-convert {\n",
              "      background-color: #3B4455;\n",
              "      fill: #D2E3FC;\n",
              "    }\n",
              "\n",
              "    [theme=dark] .colab-df-convert:hover {\n",
              "      background-color: #434B5C;\n",
              "      box-shadow: 0px 1px 3px 1px rgba(0, 0, 0, 0.15);\n",
              "      filter: drop-shadow(0px 1px 2px rgba(0, 0, 0, 0.3));\n",
              "      fill: #FFFFFF;\n",
              "    }\n",
              "  </style>\n",
              "\n",
              "      <script>\n",
              "        const buttonEl =\n",
              "          document.querySelector('#df-fd526e81-309c-4991-8f41-49e8a2f374e8 button.colab-df-convert');\n",
              "        buttonEl.style.display =\n",
              "          google.colab.kernel.accessAllowed ? 'block' : 'none';\n",
              "\n",
              "        async function convertToInteractive(key) {\n",
              "          const element = document.querySelector('#df-fd526e81-309c-4991-8f41-49e8a2f374e8');\n",
              "          const dataTable =\n",
              "            await google.colab.kernel.invokeFunction('convertToInteractive',\n",
              "                                                     [key], {});\n",
              "          if (!dataTable) return;\n",
              "\n",
              "          const docLinkHtml = 'Like what you see? Visit the ' +\n",
              "            '<a target=\"_blank\" href=https://colab.research.google.com/notebooks/data_table.ipynb>data table notebook</a>'\n",
              "            + ' to learn more about interactive tables.';\n",
              "          element.innerHTML = '';\n",
              "          dataTable['output_type'] = 'display_data';\n",
              "          await google.colab.output.renderOutput(dataTable, element);\n",
              "          const docLink = document.createElement('div');\n",
              "          docLink.innerHTML = docLinkHtml;\n",
              "          element.appendChild(docLink);\n",
              "        }\n",
              "      </script>\n",
              "    </div>\n",
              "  </div>\n",
              "  "
            ],
            "text/plain": [
              "             Antecedência de Reserva\n",
              "day_of_week                         \n",
              "Friday                          37.0\n",
              "Monday                          37.0\n",
              "Saturday                        36.0\n",
              "Sunday                          37.0\n",
              "Thursday                        39.0\n",
              "Tuesday                         37.0\n",
              "Wednesday                       39.0"
            ]
          },
          "metadata": {},
          "execution_count": 78
        }
      ]
    },
    {
      "cell_type": "code",
      "source": [
        "df_4['Antecedência de Reserva'].sort_values()"
      ],
      "metadata": {
        "id": "2A-pkVb4kBIT",
        "colab": {
          "base_uri": "https://localhost:8080/"
        },
        "outputId": "7855b439-3bbc-40ae-f9af-7b14a9177790"
      },
      "execution_count": null,
      "outputs": [
        {
          "output_type": "execute_result",
          "data": {
            "text/plain": [
              "day_of_week\n",
              "Saturday     36.0\n",
              "Friday       37.0\n",
              "Monday       37.0\n",
              "Sunday       37.0\n",
              "Tuesday      37.0\n",
              "Thursday     39.0\n",
              "Wednesday    39.0\n",
              "Name: Antecedência de Reserva, dtype: float64"
            ]
          },
          "metadata": {},
          "execution_count": 67
        }
      ]
    },
    {
      "cell_type": "code",
      "source": [
        "grafico3 = sns.lineplot(data= df_4, x='day_of_week',y= 'Antecedência de Reserva', color='grey')\n",
        "grafico3.set_title('Média de Anteceência de Reservas')\n",
        "plt.show(grafico3)"
      ],
      "metadata": {
        "colab": {
          "base_uri": "https://localhost:8080/",
          "height": 299
        },
        "id": "q-Yw1mCaQOW3",
        "outputId": "107319b1-5445-43c7-8807-db2b5ee87c2a"
      },
      "execution_count": null,
      "outputs": [
        {
          "output_type": "display_data",
          "data": {
            "image/png": "[encoded data removed]",
            "text/plain": [
              "<Figure size 432x288 with 1 Axes>"
            ]
          },
          "metadata": {}
        }
      ]
    },
    {
      "cell_type": "code",
      "source": [
        ""
      ],
      "metadata": {
        "id": "wIMg51fKSeL-"
      },
      "execution_count": null,
      "outputs": []
    }
  ]
}